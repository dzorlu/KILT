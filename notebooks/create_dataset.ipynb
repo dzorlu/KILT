{
 "cells": [
  {
   "cell_type": "code",
   "execution_count": 1,
   "metadata": {},
   "outputs": [],
   "source": [
    "import sys\n",
    "import os\n",
    "os.environ['HF_HOME']='/hdd/'"
   ]
  },
  {
   "cell_type": "code",
   "execution_count": 2,
   "metadata": {},
   "outputs": [
    {
     "name": "stdout",
     "output_type": "stream",
     "text": [
      "/hdd/\n"
     ]
    }
   ],
   "source": [
    "from datasets import load_dataset"
   ]
  },
  {
   "cell_type": "code",
   "execution_count": 305,
   "metadata": {},
   "outputs": [
    {
     "name": "stderr",
     "output_type": "stream",
     "text": [
      "Reusing dataset kilt_tasks (/hdd/datasets/kilt_tasks/wow/1.0.0/c3ef4ce7d18c05d55d7481fa79f9a9234deb0b1696c062e9e05370eb36355cae)\n"
     ]
    }
   ],
   "source": [
    "data = dict()\n",
    "# WOW\n",
    "data['wow'] = load_dataset(\"kilt_tasks\", name=\"wow\", data_dir='/hdd/kilt/')\n",
    "data['wow'].save_to_disk('/hdd/kilt_tasks/wow')"
   ]
  },
  {
   "cell_type": "code",
   "execution_count": 306,
   "metadata": {},
   "outputs": [
    {
     "name": "stderr",
     "output_type": "stream",
     "text": [
      "Reusing dataset kilt_tasks (/hdd/datasets/kilt_tasks/eli5/1.0.0/c3ef4ce7d18c05d55d7481fa79f9a9234deb0b1696c062e9e05370eb36355cae)\n"
     ]
    }
   ],
   "source": [
    "# eli5\n",
    "data['eli5'] = load_dataset(\"kilt_tasks\", name=\"eli5\", data_dir='/hdd/kilt/')\n",
    "data['eli5'].save_to_disk('/hdd/kilt_tasks/eli5')"
   ]
  },
  {
   "cell_type": "code",
   "execution_count": 307,
   "metadata": {},
   "outputs": [
    {
     "name": "stderr",
     "output_type": "stream",
     "text": [
      "Reusing dataset kilt_tasks (/hdd/datasets/kilt_tasks/fever/1.0.0/c3ef4ce7d18c05d55d7481fa79f9a9234deb0b1696c062e9e05370eb36355cae)\n"
     ]
    }
   ],
   "source": [
    "# fever\n",
    "data['fever'] = load_dataset(\"kilt_tasks\", name=\"fever\", data_dir='/hdd/kilt/')\n",
    "data['fever'].save_to_disk('/hdd/kilt_tasks/fever')"
   ]
  },
  {
   "cell_type": "code",
   "execution_count": 308,
   "metadata": {},
   "outputs": [
    {
     "name": "stderr",
     "output_type": "stream",
     "text": [
      "Reusing dataset kilt_tasks (/hdd/datasets/kilt_tasks/aidayago2/1.0.0/c3ef4ce7d18c05d55d7481fa79f9a9234deb0b1696c062e9e05370eb36355cae)\n"
     ]
    }
   ],
   "source": [
    "# aidayago2\n",
    "data['aidayago2'] = load_dataset(\"kilt_tasks\", name=\"aidayago2\", data_dir='/hdd/kilt/')\n",
    "data['aidayago2'].save_to_disk('/hdd/kilt_tasks/aidayago2')"
   ]
  },
  {
   "cell_type": "code",
   "execution_count": 309,
   "metadata": {},
   "outputs": [
    {
     "name": "stderr",
     "output_type": "stream",
     "text": [
      "Reusing dataset kilt_tasks (/hdd/datasets/kilt_tasks/wned/1.0.0/c3ef4ce7d18c05d55d7481fa79f9a9234deb0b1696c062e9e05370eb36355cae)\n"
     ]
    }
   ],
   "source": [
    "# wned\n",
    "data['wned'] = load_dataset(\"kilt_tasks\", name=\"wned\", data_dir='/hdd/kilt/')\n",
    "data['wned'].save_to_disk('/hdd/kilt_tasks/wned')"
   ]
  },
  {
   "cell_type": "code",
   "execution_count": 310,
   "metadata": {},
   "outputs": [
    {
     "name": "stderr",
     "output_type": "stream",
     "text": [
      "Reusing dataset kilt_tasks (/hdd/datasets/kilt_tasks/cweb/1.0.0/c3ef4ce7d18c05d55d7481fa79f9a9234deb0b1696c062e9e05370eb36355cae)\n"
     ]
    }
   ],
   "source": [
    "# cweb\n",
    "data['cweb'] = load_dataset(\"kilt_tasks\", name=\"cweb\", data_dir='/hdd/kilt/')\n",
    "data['cweb'].save_to_disk('/hdd/kilt_tasks/cweb')"
   ]
  },
  {
   "cell_type": "code",
   "execution_count": 311,
   "metadata": {},
   "outputs": [
    {
     "name": "stderr",
     "output_type": "stream",
     "text": [
      "Reusing dataset kilt_tasks (/hdd/datasets/kilt_tasks/trex/1.0.0/c3ef4ce7d18c05d55d7481fa79f9a9234deb0b1696c062e9e05370eb36355cae)\n"
     ]
    }
   ],
   "source": [
    "# trex\n",
    "data['trex'] = load_dataset(\"kilt_tasks\", name=\"trex\", data_dir='/hdd/kilt/')\n",
    "data['trex'].save_to_disk('/hdd/kilt_tasks/trex')"
   ]
  },
  {
   "cell_type": "code",
   "execution_count": 312,
   "metadata": {},
   "outputs": [
    {
     "name": "stderr",
     "output_type": "stream",
     "text": [
      "Reusing dataset kilt_tasks (/hdd/datasets/kilt_tasks/structured_zeroshot/1.0.0/c3ef4ce7d18c05d55d7481fa79f9a9234deb0b1696c062e9e05370eb36355cae)\n"
     ]
    }
   ],
   "source": [
    "# structured_zeroshot\n",
    "data['structured_zeroshot'] = load_dataset(\"kilt_tasks\", name=\"structured_zeroshot\", data_dir='/hdd/kilt/')\n",
    "data['structured_zeroshot'].save_to_disk('/hdd/kilt_tasks/structured_zeroshot')"
   ]
  },
  {
   "cell_type": "code",
   "execution_count": 313,
   "metadata": {},
   "outputs": [
    {
     "name": "stderr",
     "output_type": "stream",
     "text": [
      "Reusing dataset kilt_tasks (/hdd/datasets/kilt_tasks/nq/1.0.0/c3ef4ce7d18c05d55d7481fa79f9a9234deb0b1696c062e9e05370eb36355cae)\n"
     ]
    }
   ],
   "source": [
    "# nq\n",
    "data['nq'] = load_dataset(\"kilt_tasks\", name=\"nq\", data_dir='/hdd/kilt/')\n",
    "data['nq'].save_to_disk('/hdd/kilt_tasks/nq')"
   ]
  },
  {
   "cell_type": "code",
   "execution_count": 314,
   "metadata": {},
   "outputs": [
    {
     "name": "stderr",
     "output_type": "stream",
     "text": [
      "Reusing dataset kilt_tasks (/hdd/datasets/kilt_tasks/hotpotqa/1.0.0/c3ef4ce7d18c05d55d7481fa79f9a9234deb0b1696c062e9e05370eb36355cae)\n"
     ]
    }
   ],
   "source": [
    "# hotpotqa\n",
    "data['hotpotqa'] = load_dataset(\"kilt_tasks\", name=\"hotpotqa\", data_dir='/hdd/kilt/')\n",
    "data['hotpotqa'].save_to_disk('/hdd/kilt_tasks/hotpotqa')"
   ]
  },
  {
   "cell_type": "code",
   "execution_count": 315,
   "metadata": {},
   "outputs": [
    {
     "name": "stderr",
     "output_type": "stream",
     "text": [
      "Reusing dataset kilt_tasks (/hdd/datasets/kilt_tasks/triviaqa_support_only/1.0.0/c3ef4ce7d18c05d55d7481fa79f9a9234deb0b1696c062e9e05370eb36355cae)\n"
     ]
    }
   ],
   "source": [
    "# triviaqa_support_only\n",
    "triviaqa_support_only = load_dataset(\"kilt_tasks\", name=\"triviaqa_support_only\", data_dir='/hdd/kilt/')"
   ]
  },
  {
   "cell_type": "code",
   "execution_count": 317,
   "metadata": {},
   "outputs": [
    {
     "name": "stderr",
     "output_type": "stream",
     "text": [
      "Reusing dataset trivia_qa (/hdd/datasets/trivia_qa/unfiltered.nocontext/1.1.0/e734e28133f4d9a353af322aa52b9f266f6f27cbf2f072690a1694e577546b0d)\n"
     ]
    }
   ],
   "source": [
    "trivia_qa = load_dataset('trivia_qa', 'unfiltered.nocontext')"
   ]
  },
  {
   "cell_type": "code",
   "execution_count": 318,
   "metadata": {},
   "outputs": [
    {
     "name": "stderr",
     "output_type": "stream",
     "text": [
      "Loading cached processed dataset at /hdd/datasets/kilt_tasks/triviaqa_support_only/1.0.0/c3ef4ce7d18c05d55d7481fa79f9a9234deb0b1696c062e9e05370eb36355cae/cache-1b9b244f5e34bc6c.arrow\n",
      "Loading cached processed dataset at /hdd/datasets/kilt_tasks/triviaqa_support_only/1.0.0/c3ef4ce7d18c05d55d7481fa79f9a9234deb0b1696c062e9e05370eb36355cae/cache-de440feda5d2d176.arrow\n",
      "Loading cached processed dataset at /hdd/datasets/kilt_tasks/triviaqa_support_only/1.0.0/c3ef4ce7d18c05d55d7481fa79f9a9234deb0b1696c062e9e05370eb36355cae/cache-7bddff22d225bed6.arrow\n",
      "Loading cached processed dataset at /hdd/datasets/kilt_tasks/triviaqa_support_only/1.0.0/c3ef4ce7d18c05d55d7481fa79f9a9234deb0b1696c062e9e05370eb36355cae/cache-164519f010791e1f.arrow\n",
      "Loading cached processed dataset at /hdd/datasets/kilt_tasks/triviaqa_support_only/1.0.0/c3ef4ce7d18c05d55d7481fa79f9a9234deb0b1696c062e9e05370eb36355cae/cache-76fbd1d8da1855fb.arrow\n",
      "Loading cached processed dataset at /hdd/datasets/kilt_tasks/triviaqa_support_only/1.0.0/c3ef4ce7d18c05d55d7481fa79f9a9234deb0b1696c062e9e05370eb36355cae/cache-f4aca8bb4a07925f.arrow\n"
     ]
    }
   ],
   "source": [
    "# The KILT IDs can then be mapped to the TriviaQA questions with:\n",
    "triviaqa_map = {}\n",
    "\n",
    "for k in ['train', 'validation', 'test']:\n",
    "    triviaqa_map = dict([(q_id, i) for i, q_id in enumerate(trivia_qa[k]['question_id'])])\n",
    "    triviaqa_support_only[k] = triviaqa_support_only[k].filter(lambda x: x['id'] in triviaqa_map)\n",
    "    triviaqa_support_only[k] = triviaqa_support_only[k].map(lambda x: {'input': trivia_qa[k][triviaqa_map[x['id']]]['question']})"
   ]
  },
  {
   "cell_type": "code",
   "execution_count": 319,
   "metadata": {},
   "outputs": [],
   "source": [
    "triviaqa_support_only.save_to_disk(\"/hdd/kilt_tasks/triviaqa_support_only\")"
   ]
  },
  {
   "cell_type": "code",
   "execution_count": 320,
   "metadata": {},
   "outputs": [],
   "source": [
    "data['triviaqa_support_only'] = triviaqa_support_only"
   ]
  },
  {
   "cell_type": "code",
   "execution_count": 321,
   "metadata": {},
   "outputs": [
    {
     "data": {
      "text/plain": [
       "{'wow': DatasetDict({\n",
       "     train: Dataset({\n",
       "         features: ['id', 'input', 'meta', 'output'],\n",
       "         num_rows: 94577\n",
       "     })\n",
       "     validation: Dataset({\n",
       "         features: ['id', 'input', 'meta', 'output'],\n",
       "         num_rows: 3058\n",
       "     })\n",
       "     test: Dataset({\n",
       "         features: ['id', 'input', 'meta', 'output'],\n",
       "         num_rows: 2944\n",
       "     })\n",
       " }),\n",
       " 'eli5': DatasetDict({\n",
       "     train: Dataset({\n",
       "         features: ['id', 'input', 'meta', 'output'],\n",
       "         num_rows: 272634\n",
       "     })\n",
       "     validation: Dataset({\n",
       "         features: ['id', 'input', 'meta', 'output'],\n",
       "         num_rows: 1507\n",
       "     })\n",
       "     test: Dataset({\n",
       "         features: ['id', 'input', 'meta', 'output'],\n",
       "         num_rows: 600\n",
       "     })\n",
       " }),\n",
       " 'fever': DatasetDict({\n",
       "     train: Dataset({\n",
       "         features: ['id', 'input', 'meta', 'output'],\n",
       "         num_rows: 104966\n",
       "     })\n",
       "     validation: Dataset({\n",
       "         features: ['id', 'input', 'meta', 'output'],\n",
       "         num_rows: 10444\n",
       "     })\n",
       "     test: Dataset({\n",
       "         features: ['id', 'input', 'meta', 'output'],\n",
       "         num_rows: 10100\n",
       "     })\n",
       " }),\n",
       " 'aidayago2': DatasetDict({\n",
       "     train: Dataset({\n",
       "         features: ['id', 'input', 'meta', 'output'],\n",
       "         num_rows: 18395\n",
       "     })\n",
       "     validation: Dataset({\n",
       "         features: ['id', 'input', 'meta', 'output'],\n",
       "         num_rows: 4784\n",
       "     })\n",
       "     test: Dataset({\n",
       "         features: ['id', 'input', 'meta', 'output'],\n",
       "         num_rows: 4463\n",
       "     })\n",
       " }),\n",
       " 'wned': DatasetDict({\n",
       "     validation: Dataset({\n",
       "         features: ['id', 'input', 'meta', 'output'],\n",
       "         num_rows: 3396\n",
       "     })\n",
       "     test: Dataset({\n",
       "         features: ['id', 'input', 'meta', 'output'],\n",
       "         num_rows: 3376\n",
       "     })\n",
       " }),\n",
       " 'cweb': DatasetDict({\n",
       "     validation: Dataset({\n",
       "         features: ['id', 'input', 'meta', 'output'],\n",
       "         num_rows: 5599\n",
       "     })\n",
       "     test: Dataset({\n",
       "         features: ['id', 'input', 'meta', 'output'],\n",
       "         num_rows: 5543\n",
       "     })\n",
       " }),\n",
       " 'trex': DatasetDict({\n",
       "     train: Dataset({\n",
       "         features: ['id', 'input', 'meta', 'output'],\n",
       "         num_rows: 2284168\n",
       "     })\n",
       "     validation: Dataset({\n",
       "         features: ['id', 'input', 'meta', 'output'],\n",
       "         num_rows: 5000\n",
       "     })\n",
       "     test: Dataset({\n",
       "         features: ['id', 'input', 'meta', 'output'],\n",
       "         num_rows: 5000\n",
       "     })\n",
       " }),\n",
       " 'structured_zeroshot': DatasetDict({\n",
       "     train: Dataset({\n",
       "         features: ['id', 'input', 'meta', 'output'],\n",
       "         num_rows: 147909\n",
       "     })\n",
       "     validation: Dataset({\n",
       "         features: ['id', 'input', 'meta', 'output'],\n",
       "         num_rows: 3724\n",
       "     })\n",
       "     test: Dataset({\n",
       "         features: ['id', 'input', 'meta', 'output'],\n",
       "         num_rows: 4966\n",
       "     })\n",
       " }),\n",
       " 'nq': DatasetDict({\n",
       "     train: Dataset({\n",
       "         features: ['id', 'input', 'meta', 'output'],\n",
       "         num_rows: 87372\n",
       "     })\n",
       "     validation: Dataset({\n",
       "         features: ['id', 'input', 'meta', 'output'],\n",
       "         num_rows: 2837\n",
       "     })\n",
       "     test: Dataset({\n",
       "         features: ['id', 'input', 'meta', 'output'],\n",
       "         num_rows: 1444\n",
       "     })\n",
       " }),\n",
       " 'hotpotqa': DatasetDict({\n",
       "     train: Dataset({\n",
       "         features: ['id', 'input', 'meta', 'output'],\n",
       "         num_rows: 88869\n",
       "     })\n",
       "     validation: Dataset({\n",
       "         features: ['id', 'input', 'meta', 'output'],\n",
       "         num_rows: 5600\n",
       "     })\n",
       "     test: Dataset({\n",
       "         features: ['id', 'input', 'meta', 'output'],\n",
       "         num_rows: 5569\n",
       "     })\n",
       " }),\n",
       " 'triviaqa_support_only': DatasetDict({\n",
       "     train: Dataset({\n",
       "         features: ['id', 'input', 'meta', 'output'],\n",
       "         num_rows: 61817\n",
       "     })\n",
       "     validation: Dataset({\n",
       "         features: ['id', 'input', 'meta', 'output'],\n",
       "         num_rows: 5355\n",
       "     })\n",
       "     test: Dataset({\n",
       "         features: ['id', 'input', 'meta', 'output'],\n",
       "         num_rows: 6578\n",
       "     })\n",
       " })}"
      ]
     },
     "execution_count": 321,
     "metadata": {},
     "output_type": "execute_result"
    }
   ],
   "source": [
    "data"
   ]
  },
  {
   "cell_type": "code",
   "execution_count": 322,
   "metadata": {},
   "outputs": [],
   "source": [
    "# TRAIN DATASET\n",
    "from collections import defaultdict\n",
    "max_number_samples = 100_000"
   ]
  },
  {
   "cell_type": "code",
   "execution_count": 353,
   "metadata": {},
   "outputs": [
    {
     "data": {
      "text/plain": [
       "dict_keys(['wow', 'eli5', 'fever', 'aidayago2', 'wned', 'cweb', 'trex', 'structured_zeroshot', 'nq', 'hotpotqa', 'triviaqa_support_only'])"
      ]
     },
     "execution_count": 353,
     "metadata": {},
     "output_type": "execute_result"
    }
   ],
   "source": [
    "data.keys()"
   ]
  },
  {
   "cell_type": "code",
   "execution_count": 352,
   "metadata": {},
   "outputs": [],
   "source": [
    "# dataset_dict = defaultdict(lambda: defaultdict(list))\n",
    "# for task_name, _dataset_dict in data.items():\n",
    "#     for data_ref in ['train','validation','test']:\n",
    "#         _max = max_number_samples if data_ref == 'train' else 100_000_000\n",
    "#         if data_ref in _dataset_dict: # some datasets are zeroshot datasets\n",
    "#             dt = _dataset_dict[data_ref][:_max]\n",
    "#             # prompt task name\n",
    "#             input = [task_name + ' ' +  i for i in dt['input']]\n",
    "#             output = [] * len(input)\n",
    "#             if data_ref != 'test':\n",
    "#                 # output might be multiple. take the first one. \n",
    "#                 # TODO: might make sense to randomize this, or better\n",
    "#                 # take the output with provenance\n",
    "#                 output =  [o[0]['answer'] for o in dt['output']]\n",
    "#             print(len(input), len(output), data_ref, task_name)\n",
    "#             print(\"*\"*50)\n",
    "#             dataset_dict[data_ref]['input'].extend(input)\n",
    "#             dataset_dict[data_ref]['output'].extend(output)"
   ]
  },
  {
   "cell_type": "code",
   "execution_count": 354,
   "metadata": {},
   "outputs": [],
   "source": [
    "#dataset_dict.keys()"
   ]
  },
  {
   "cell_type": "code",
   "execution_count": 342,
   "metadata": {},
   "outputs": [],
   "source": [
    "from datasets import Features, Sequence, Value, load_dataset\n",
    "from functools import partial\n",
    "\n",
    "new_features = Features(\n",
    "    {\"input_\": Value(\"string\"), \"output_\": Value(\"string\"), \"id\": Value(\"string\"), 'task_name': Value(\"string\")}\n",
    ") "
   ]
  },
  {
   "cell_type": "code",
   "execution_count": 343,
   "metadata": {},
   "outputs": [],
   "source": [
    "def extract_text(documents: dict, task_name: str) -> dict:\n",
    "    x = [task_name + ' ' +  i for i in documents['input']]\n",
    "    task_names = [task_name] * len(x)\n",
    "    try:\n",
    "        labels =  [o[0]['answer'] if 'answer' in o[0] else '' for o in documents['output'] ]\n",
    "    except:\n",
    "        labels = [''] * len(x)\n",
    "    return {'output_': labels, 'input_': x, \"id\": documents['id'], \"task_name\": task_names}"
   ]
  },
  {
   "cell_type": "code",
   "execution_count": 345,
   "metadata": {},
   "outputs": [],
   "source": [
    "d = list(data.values())[0]"
   ]
  },
  {
   "cell_type": "code",
   "execution_count": 355,
   "metadata": {},
   "outputs": [
    {
     "data": {
      "text/plain": [
       "DatasetDict({\n",
       "    train: Dataset({\n",
       "        features: ['id', 'input', 'meta', 'output'],\n",
       "        num_rows: 94577\n",
       "    })\n",
       "    validation: Dataset({\n",
       "        features: ['id', 'input', 'meta', 'output'],\n",
       "        num_rows: 3058\n",
       "    })\n",
       "    test: Dataset({\n",
       "        features: ['id', 'input', 'meta', 'output'],\n",
       "        num_rows: 2944\n",
       "    })\n",
       "})"
      ]
     },
     "execution_count": 355,
     "metadata": {},
     "output_type": "execute_result"
    }
   ],
   "source": [
    "d"
   ]
  },
  {
   "cell_type": "code",
   "execution_count": 360,
   "metadata": {
    "collapsed": true,
    "jupyter": {
     "outputs_hidden": true
    }
   },
   "outputs": [
    {
     "data": {
      "application/vnd.jupyter.widget-view+json": {
       "model_id": "38345627bbc44c3f824ef3bd85f62974",
       "version_major": 2,
       "version_minor": 0
      },
      "text/plain": [
       "HBox(children=(FloatProgress(value=0.0, max=946.0), HTML(value='')))"
      ]
     },
     "metadata": {},
     "output_type": "display_data"
    },
    {
     "name": "stderr",
     "output_type": "stream",
     "text": [
      "Loading cached processed dataset at /hdd/datasets/kilt_tasks/wow/1.0.0/c3ef4ce7d18c05d55d7481fa79f9a9234deb0b1696c062e9e05370eb36355cae/cache-e41fdbe52e4eef9f.arrow\n",
      "Loading cached processed dataset at /hdd/datasets/kilt_tasks/wow/1.0.0/c3ef4ce7d18c05d55d7481fa79f9a9234deb0b1696c062e9e05370eb36355cae/cache-ed152de1581dc2cc.arrow\n"
     ]
    },
    {
     "name": "stdout",
     "output_type": "stream",
     "text": [
      "\n"
     ]
    },
    {
     "data": {
      "application/vnd.jupyter.widget-view+json": {
       "model_id": "38e9061628ad4f228c3b8ff3edf2db80",
       "version_major": 2,
       "version_minor": 0
      },
      "text/plain": [
       "HBox(children=(FloatProgress(value=0.0, max=1000.0), HTML(value='')))"
      ]
     },
     "metadata": {},
     "output_type": "display_data"
    },
    {
     "name": "stderr",
     "output_type": "stream",
     "text": [
      "Loading cached processed dataset at /hdd/datasets/kilt_tasks/eli5/1.0.0/c3ef4ce7d18c05d55d7481fa79f9a9234deb0b1696c062e9e05370eb36355cae/cache-3776da764d59cbae.arrow\n",
      "Loading cached processed dataset at /hdd/datasets/kilt_tasks/eli5/1.0.0/c3ef4ce7d18c05d55d7481fa79f9a9234deb0b1696c062e9e05370eb36355cae/cache-6f5ae92f11806eb6.arrow\n"
     ]
    },
    {
     "name": "stdout",
     "output_type": "stream",
     "text": [
      "\n"
     ]
    },
    {
     "data": {
      "application/vnd.jupyter.widget-view+json": {
       "model_id": "d14ad0cd135043339bb3e23bf4fbf4e4",
       "version_major": 2,
       "version_minor": 0
      },
      "text/plain": [
       "HBox(children=(FloatProgress(value=0.0, max=1000.0), HTML(value='')))"
      ]
     },
     "metadata": {},
     "output_type": "display_data"
    },
    {
     "name": "stderr",
     "output_type": "stream",
     "text": [
      "Loading cached processed dataset at /hdd/datasets/kilt_tasks/fever/1.0.0/c3ef4ce7d18c05d55d7481fa79f9a9234deb0b1696c062e9e05370eb36355cae/cache-ef635a45204e6d9b.arrow\n",
      "Loading cached processed dataset at /hdd/datasets/kilt_tasks/fever/1.0.0/c3ef4ce7d18c05d55d7481fa79f9a9234deb0b1696c062e9e05370eb36355cae/cache-2c82573a869b7650.arrow\n"
     ]
    },
    {
     "name": "stdout",
     "output_type": "stream",
     "text": [
      "\n"
     ]
    },
    {
     "data": {
      "application/vnd.jupyter.widget-view+json": {
       "model_id": "1f28b47315794e6ab2963ef1d1658226",
       "version_major": 2,
       "version_minor": 0
      },
      "text/plain": [
       "HBox(children=(FloatProgress(value=0.0, max=184.0), HTML(value='')))"
      ]
     },
     "metadata": {},
     "output_type": "display_data"
    },
    {
     "name": "stderr",
     "output_type": "stream",
     "text": [
      "Loading cached processed dataset at /hdd/datasets/kilt_tasks/aidayago2/1.0.0/c3ef4ce7d18c05d55d7481fa79f9a9234deb0b1696c062e9e05370eb36355cae/cache-9c029f83d16ad60f.arrow\n",
      "Loading cached processed dataset at /hdd/datasets/kilt_tasks/aidayago2/1.0.0/c3ef4ce7d18c05d55d7481fa79f9a9234deb0b1696c062e9e05370eb36355cae/cache-97767fd86f13131c.arrow\n",
      "Loading cached processed dataset at /hdd/datasets/kilt_tasks/wned/1.0.0/c3ef4ce7d18c05d55d7481fa79f9a9234deb0b1696c062e9e05370eb36355cae/cache-d3011caf4242ab93.arrow\n",
      "Loading cached processed dataset at /hdd/datasets/kilt_tasks/wned/1.0.0/c3ef4ce7d18c05d55d7481fa79f9a9234deb0b1696c062e9e05370eb36355cae/cache-cef9e7c0fe019039.arrow\n",
      "Loading cached processed dataset at /hdd/datasets/kilt_tasks/cweb/1.0.0/c3ef4ce7d18c05d55d7481fa79f9a9234deb0b1696c062e9e05370eb36355cae/cache-afe21ec48249297e.arrow\n"
     ]
    },
    {
     "name": "stdout",
     "output_type": "stream",
     "text": [
      "\n"
     ]
    },
    {
     "name": "stderr",
     "output_type": "stream",
     "text": [
      "Loading cached processed dataset at /hdd/datasets/kilt_tasks/cweb/1.0.0/c3ef4ce7d18c05d55d7481fa79f9a9234deb0b1696c062e9e05370eb36355cae/cache-01b4ba2f04deecb8.arrow\n"
     ]
    },
    {
     "data": {
      "application/vnd.jupyter.widget-view+json": {
       "model_id": "3d7d35d6c3bd48e3a80997182b13f591",
       "version_major": 2,
       "version_minor": 0
      },
      "text/plain": [
       "HBox(children=(FloatProgress(value=0.0, max=1000.0), HTML(value='')))"
      ]
     },
     "metadata": {},
     "output_type": "display_data"
    },
    {
     "name": "stderr",
     "output_type": "stream",
     "text": [
      "Loading cached processed dataset at /hdd/datasets/kilt_tasks/trex/1.0.0/c3ef4ce7d18c05d55d7481fa79f9a9234deb0b1696c062e9e05370eb36355cae/cache-b1835d518e3547a8.arrow\n",
      "Loading cached processed dataset at /hdd/datasets/kilt_tasks/trex/1.0.0/c3ef4ce7d18c05d55d7481fa79f9a9234deb0b1696c062e9e05370eb36355cae/cache-3b3743fa4660e76a.arrow\n"
     ]
    },
    {
     "name": "stdout",
     "output_type": "stream",
     "text": [
      "\n"
     ]
    },
    {
     "data": {
      "application/vnd.jupyter.widget-view+json": {
       "model_id": "356b61de33f84ad5afbdf9bfda96d3da",
       "version_major": 2,
       "version_minor": 0
      },
      "text/plain": [
       "HBox(children=(FloatProgress(value=0.0, max=1000.0), HTML(value='')))"
      ]
     },
     "metadata": {},
     "output_type": "display_data"
    },
    {
     "name": "stderr",
     "output_type": "stream",
     "text": [
      "Loading cached processed dataset at /hdd/datasets/kilt_tasks/structured_zeroshot/1.0.0/c3ef4ce7d18c05d55d7481fa79f9a9234deb0b1696c062e9e05370eb36355cae/cache-3383a5b3bfdb8197.arrow\n",
      "Loading cached processed dataset at /hdd/datasets/kilt_tasks/structured_zeroshot/1.0.0/c3ef4ce7d18c05d55d7481fa79f9a9234deb0b1696c062e9e05370eb36355cae/cache-b62455c8de3ef202.arrow\n"
     ]
    },
    {
     "name": "stdout",
     "output_type": "stream",
     "text": [
      "\n"
     ]
    },
    {
     "data": {
      "application/vnd.jupyter.widget-view+json": {
       "model_id": "590ca13f4999419aa85cb4fbd606c547",
       "version_major": 2,
       "version_minor": 0
      },
      "text/plain": [
       "HBox(children=(FloatProgress(value=0.0, max=874.0), HTML(value='')))"
      ]
     },
     "metadata": {},
     "output_type": "display_data"
    },
    {
     "name": "stderr",
     "output_type": "stream",
     "text": [
      "Loading cached processed dataset at /hdd/datasets/kilt_tasks/nq/1.0.0/c3ef4ce7d18c05d55d7481fa79f9a9234deb0b1696c062e9e05370eb36355cae/cache-32c7797b523d7af8.arrow\n",
      "Loading cached processed dataset at /hdd/datasets/kilt_tasks/nq/1.0.0/c3ef4ce7d18c05d55d7481fa79f9a9234deb0b1696c062e9e05370eb36355cae/cache-647317a5340d0f35.arrow\n"
     ]
    },
    {
     "name": "stdout",
     "output_type": "stream",
     "text": [
      "\n"
     ]
    },
    {
     "data": {
      "application/vnd.jupyter.widget-view+json": {
       "model_id": "c2b9997674fb4a10bff3d04f4651df0e",
       "version_major": 2,
       "version_minor": 0
      },
      "text/plain": [
       "HBox(children=(FloatProgress(value=0.0, max=889.0), HTML(value='')))"
      ]
     },
     "metadata": {},
     "output_type": "display_data"
    },
    {
     "name": "stderr",
     "output_type": "stream",
     "text": [
      "Loading cached processed dataset at /hdd/datasets/kilt_tasks/hotpotqa/1.0.0/c3ef4ce7d18c05d55d7481fa79f9a9234deb0b1696c062e9e05370eb36355cae/cache-68f6fbe6d303293f.arrow\n",
      "Loading cached processed dataset at /hdd/datasets/kilt_tasks/hotpotqa/1.0.0/c3ef4ce7d18c05d55d7481fa79f9a9234deb0b1696c062e9e05370eb36355cae/cache-77459539a7758c1a.arrow\n"
     ]
    },
    {
     "name": "stdout",
     "output_type": "stream",
     "text": [
      "\n"
     ]
    },
    {
     "data": {
      "application/vnd.jupyter.widget-view+json": {
       "model_id": "ef9d4b0f55774bb497ebcb7bca5a6136",
       "version_major": 2,
       "version_minor": 0
      },
      "text/plain": [
       "HBox(children=(FloatProgress(value=0.0, max=619.0), HTML(value='')))"
      ]
     },
     "metadata": {},
     "output_type": "display_data"
    },
    {
     "name": "stderr",
     "output_type": "stream",
     "text": [
      "Loading cached processed dataset at /hdd/datasets/kilt_tasks/triviaqa_support_only/1.0.0/c3ef4ce7d18c05d55d7481fa79f9a9234deb0b1696c062e9e05370eb36355cae/cache-a5f4fb7e1efd0239.arrow\n",
      "Loading cached processed dataset at /hdd/datasets/kilt_tasks/triviaqa_support_only/1.0.0/c3ef4ce7d18c05d55d7481fa79f9a9234deb0b1696c062e9e05370eb36355cae/cache-089c121b229d2368.arrow\n"
     ]
    },
    {
     "name": "stdout",
     "output_type": "stream",
     "text": [
      "\n"
     ]
    }
   ],
   "source": [
    "# process the dataset\n",
    "from datasets import Dataset\n",
    "\n",
    "processed_data = dict()\n",
    "for task_name, _dataset_dict in data.items():\n",
    "    # cap the number of examples\n",
    "    if 'train' in _dataset_dict:\n",
    "        _dataset_dict['train'] = Dataset.from_dict(_dataset_dict['train'][:max_number_instances])\n",
    "    _dataset_dict = _dataset_dict.map(\n",
    "        partial(extract_text, task_name=task_name),\n",
    "        batched=True,\n",
    "        batch_size=100,\n",
    "        features=new_features,\n",
    "        remove_columns=['id', 'input', 'meta', 'output']\n",
    "    )\n",
    "    processed_data[task_name] = _dataset_dict"
   ]
  },
  {
   "cell_type": "code",
   "execution_count": 361,
   "metadata": {},
   "outputs": [
    {
     "data": {
      "text/plain": [
       "{'wow': DatasetDict({\n",
       "     train: Dataset({\n",
       "         features: ['input_', 'output_', 'id', 'task_name'],\n",
       "         num_rows: 94577\n",
       "     })\n",
       "     validation: Dataset({\n",
       "         features: ['input_', 'output_', 'id', 'task_name'],\n",
       "         num_rows: 3058\n",
       "     })\n",
       "     test: Dataset({\n",
       "         features: ['input_', 'output_', 'id', 'task_name'],\n",
       "         num_rows: 2944\n",
       "     })\n",
       " }),\n",
       " 'eli5': DatasetDict({\n",
       "     train: Dataset({\n",
       "         features: ['input_', 'output_', 'id', 'task_name'],\n",
       "         num_rows: 100000\n",
       "     })\n",
       "     validation: Dataset({\n",
       "         features: ['input_', 'output_', 'id', 'task_name'],\n",
       "         num_rows: 1507\n",
       "     })\n",
       "     test: Dataset({\n",
       "         features: ['input_', 'output_', 'id', 'task_name'],\n",
       "         num_rows: 600\n",
       "     })\n",
       " }),\n",
       " 'fever': DatasetDict({\n",
       "     train: Dataset({\n",
       "         features: ['input_', 'output_', 'id', 'task_name'],\n",
       "         num_rows: 100000\n",
       "     })\n",
       "     validation: Dataset({\n",
       "         features: ['input_', 'output_', 'id', 'task_name'],\n",
       "         num_rows: 10444\n",
       "     })\n",
       "     test: Dataset({\n",
       "         features: ['input_', 'output_', 'id', 'task_name'],\n",
       "         num_rows: 10100\n",
       "     })\n",
       " }),\n",
       " 'aidayago2': DatasetDict({\n",
       "     train: Dataset({\n",
       "         features: ['input_', 'output_', 'id', 'task_name'],\n",
       "         num_rows: 18395\n",
       "     })\n",
       "     validation: Dataset({\n",
       "         features: ['input_', 'output_', 'id', 'task_name'],\n",
       "         num_rows: 4784\n",
       "     })\n",
       "     test: Dataset({\n",
       "         features: ['input_', 'output_', 'id', 'task_name'],\n",
       "         num_rows: 4463\n",
       "     })\n",
       " }),\n",
       " 'wned': DatasetDict({\n",
       "     validation: Dataset({\n",
       "         features: ['input_', 'output_', 'id', 'task_name'],\n",
       "         num_rows: 3396\n",
       "     })\n",
       "     test: Dataset({\n",
       "         features: ['input_', 'output_', 'id', 'task_name'],\n",
       "         num_rows: 3376\n",
       "     })\n",
       " }),\n",
       " 'cweb': DatasetDict({\n",
       "     validation: Dataset({\n",
       "         features: ['input_', 'output_', 'id', 'task_name'],\n",
       "         num_rows: 5599\n",
       "     })\n",
       "     test: Dataset({\n",
       "         features: ['input_', 'output_', 'id', 'task_name'],\n",
       "         num_rows: 5543\n",
       "     })\n",
       " }),\n",
       " 'trex': DatasetDict({\n",
       "     train: Dataset({\n",
       "         features: ['input_', 'output_', 'id', 'task_name'],\n",
       "         num_rows: 100000\n",
       "     })\n",
       "     validation: Dataset({\n",
       "         features: ['input_', 'output_', 'id', 'task_name'],\n",
       "         num_rows: 5000\n",
       "     })\n",
       "     test: Dataset({\n",
       "         features: ['input_', 'output_', 'id', 'task_name'],\n",
       "         num_rows: 5000\n",
       "     })\n",
       " }),\n",
       " 'structured_zeroshot': DatasetDict({\n",
       "     train: Dataset({\n",
       "         features: ['input_', 'output_', 'id', 'task_name'],\n",
       "         num_rows: 100000\n",
       "     })\n",
       "     validation: Dataset({\n",
       "         features: ['input_', 'output_', 'id', 'task_name'],\n",
       "         num_rows: 3724\n",
       "     })\n",
       "     test: Dataset({\n",
       "         features: ['input_', 'output_', 'id', 'task_name'],\n",
       "         num_rows: 4966\n",
       "     })\n",
       " }),\n",
       " 'nq': DatasetDict({\n",
       "     train: Dataset({\n",
       "         features: ['input_', 'output_', 'id', 'task_name'],\n",
       "         num_rows: 87372\n",
       "     })\n",
       "     validation: Dataset({\n",
       "         features: ['input_', 'output_', 'id', 'task_name'],\n",
       "         num_rows: 2837\n",
       "     })\n",
       "     test: Dataset({\n",
       "         features: ['input_', 'output_', 'id', 'task_name'],\n",
       "         num_rows: 1444\n",
       "     })\n",
       " }),\n",
       " 'hotpotqa': DatasetDict({\n",
       "     train: Dataset({\n",
       "         features: ['input_', 'output_', 'id', 'task_name'],\n",
       "         num_rows: 88869\n",
       "     })\n",
       "     validation: Dataset({\n",
       "         features: ['input_', 'output_', 'id', 'task_name'],\n",
       "         num_rows: 5600\n",
       "     })\n",
       "     test: Dataset({\n",
       "         features: ['input_', 'output_', 'id', 'task_name'],\n",
       "         num_rows: 5569\n",
       "     })\n",
       " }),\n",
       " 'triviaqa_support_only': DatasetDict({\n",
       "     train: Dataset({\n",
       "         features: ['input_', 'output_', 'id', 'task_name'],\n",
       "         num_rows: 61817\n",
       "     })\n",
       "     validation: Dataset({\n",
       "         features: ['input_', 'output_', 'id', 'task_name'],\n",
       "         num_rows: 5355\n",
       "     })\n",
       "     test: Dataset({\n",
       "         features: ['input_', 'output_', 'id', 'task_name'],\n",
       "         num_rows: 6578\n",
       "     })\n",
       " })}"
      ]
     },
     "execution_count": 361,
     "metadata": {},
     "output_type": "execute_result"
    }
   ],
   "source": [
    "processed_data"
   ]
  },
  {
   "cell_type": "code",
   "execution_count": 362,
   "metadata": {},
   "outputs": [
    {
     "data": {
      "text/plain": [
       "{'id': '5c1f878c-99d6-11ea-8a20-773209e30a7b_3',\n",
       " 'input_': \"wow New Episodes Every day! Find your next favorite comic right here, right now\\nComics, or comicbooks, are great sometimes. They are publications that include comic art.\\nA comic book or comicbook, also called comic magazine or simply comic, is a publication that consists of comic art in the form of sequential juxtaposed panels .\\nI was just thinking that! The panels of comics are usually accompanied by descriptive prose and some narrative too.\\nCovering comics, movies, tv like no other in the world. ... Aquaman: Jason Momoa's Comics-Accurate Costume Debuts in New Figure .... Comic Book Previews.\\nI recognize some of those. It's weird to consider that some origins of comics come from 18th century Japan.\\nCovering comics, movies, tv like no other in the world.  Aquaman: Jason Momoa's Comics-Accurate Costume Debuts in New Figure ..\",\n",
       " 'output_': 'Oh gotcha. I\\'d suggest reading the \"Famous Funnies\" It was the first comic released in 1933.',\n",
       " 'task_name': 'wow'}"
      ]
     },
     "execution_count": 362,
     "metadata": {},
     "output_type": "execute_result"
    }
   ],
   "source": [
    "processed_data['wow']['train'][160]"
   ]
  },
  {
   "cell_type": "code",
   "execution_count": 363,
   "metadata": {},
   "outputs": [],
   "source": [
    "# concat dataset\n",
    "from datasets import concatenate_datasets"
   ]
  },
  {
   "cell_type": "code",
   "execution_count": 364,
   "metadata": {},
   "outputs": [],
   "source": [
    "# {trained_data = }concatenate_datasets([d['train'] for d in processed_data.values() if 'train' in d])\n",
    "# data"
   ]
  },
  {
   "cell_type": "code",
   "execution_count": 365,
   "metadata": {},
   "outputs": [],
   "source": [
    "from datasets import DatasetDict"
   ]
  },
  {
   "cell_type": "code",
   "execution_count": 366,
   "metadata": {},
   "outputs": [],
   "source": [
    "_dict = dict()\n",
    "max_number_instances = 100_000\n",
    "\n",
    "for data_ref in ['train','validation','test']:\n",
    "    dts = [d[data_ref] for d in processed_data.values() if data_ref in d]\n",
    "    _dict[data_ref] = concatenate_datasets(dts)"
   ]
  },
  {
   "cell_type": "code",
   "execution_count": 367,
   "metadata": {},
   "outputs": [],
   "source": [
    "kilt_test_dataset = DatasetDict(_dict)"
   ]
  },
  {
   "cell_type": "code",
   "execution_count": 368,
   "metadata": {},
   "outputs": [
    {
     "data": {
      "text/plain": [
       "DatasetDict({\n",
       "    train: Dataset({\n",
       "        features: ['input_', 'output_', 'id', 'task_name'],\n",
       "        num_rows: 751030\n",
       "    })\n",
       "    validation: Dataset({\n",
       "        features: ['input_', 'output_', 'id', 'task_name'],\n",
       "        num_rows: 51304\n",
       "    })\n",
       "    test: Dataset({\n",
       "        features: ['input_', 'output_', 'id', 'task_name'],\n",
       "        num_rows: 50583\n",
       "    })\n",
       "})"
      ]
     },
     "execution_count": 368,
     "metadata": {},
     "output_type": "execute_result"
    }
   ],
   "source": [
    "kilt_test_dataset"
   ]
  },
  {
   "cell_type": "code",
   "execution_count": 369,
   "metadata": {},
   "outputs": [],
   "source": [
    "kilt_test_dataset.save_to_disk(\"/hdd/kilt_tasks\")"
   ]
  },
  {
   "cell_type": "code",
   "execution_count": null,
   "metadata": {},
   "outputs": [],
   "source": []
  }
 ],
 "metadata": {
  "kernelspec": {
   "display_name": "kilt",
   "language": "python",
   "name": "kilt"
  },
  "language_info": {
   "codemirror_mode": {
    "name": "ipython",
    "version": 3
   },
   "file_extension": ".py",
   "mimetype": "text/x-python",
   "name": "python",
   "nbconvert_exporter": "python",
   "pygments_lexer": "ipython3",
   "version": "3.7.9"
  }
 },
 "nbformat": 4,
 "nbformat_minor": 4
}
