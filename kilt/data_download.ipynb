{
 "cells": [
  {
   "cell_type": "code",
   "execution_count": 1,
   "metadata": {},
   "outputs": [],
   "source": [
    "import sys\n",
    "import os\n",
    "os.environ['HF_HOME']='/hdd/'"
   ]
  },
  {
   "cell_type": "code",
   "execution_count": 2,
   "metadata": {},
   "outputs": [
    {
     "name": "stdout",
     "output_type": "stream",
     "text": [
      "/hdd/\n"
     ]
    }
   ],
   "source": [
    "from datasets import load_dataset"
   ]
  },
  {
   "cell_type": "code",
   "execution_count": 5,
   "metadata": {},
   "outputs": [
    {
     "name": "stderr",
     "output_type": "stream",
     "text": [
      "Using custom data configuration default\n",
      "Reusing dataset kilt_wikipedia (/hdd/datasets/kilt_wikipedia/default/0.0.0/a48aa8d021c82ff4e2210a596893076073305e17e3125949291227be54e42b9b)\n"
     ]
    }
   ],
   "source": [
    "kilt_wiki = load_dataset(\"kilt_wikipedia\", data_dir='/hdd/kilt/')"
   ]
  },
  {
   "cell_type": "code",
   "execution_count": 59,
   "metadata": {},
   "outputs": [
    {
     "data": {
      "text/plain": [
       "dict_keys(['anchors', 'categories', 'history', 'kilt_id', 'text', 'wikidata_info', 'wikipedia_id', 'wikipedia_title'])"
      ]
     },
     "execution_count": 59,
     "metadata": {},
     "output_type": "execute_result"
    }
   ],
   "source": [
    "# WIKI\n",
    "kilt_wiki['full'][0].keys()"
   ]
  },
  {
   "cell_type": "code",
   "execution_count": 74,
   "metadata": {},
   "outputs": [
    {
     "data": {
      "text/plain": [
       "87"
      ]
     },
     "execution_count": 74,
     "metadata": {},
     "output_type": "execute_result"
    }
   ],
   "source": [
    "len(kilt_wiki['full'][1]['text']['paragraph'])"
   ]
  },
  {
   "cell_type": "code",
   "execution_count": 78,
   "metadata": {},
   "outputs": [
    {
     "data": {
      "text/plain": [
       "dict_keys(['end', 'href', 'paragraph_id', 'start', 'text', 'wikipedia_id', 'wikipedia_title'])"
      ]
     },
     "execution_count": 78,
     "metadata": {},
     "output_type": "execute_result"
    }
   ],
   "source": [
    "kilt_wiki['full'][1]['anchors'].keys()"
   ]
  },
  {
   "cell_type": "code",
   "execution_count": 84,
   "metadata": {},
   "outputs": [
    {
     "data": {
      "text/plain": [
       "[1, 1, 1, 1, 1]"
      ]
     },
     "execution_count": 84,
     "metadata": {},
     "output_type": "execute_result"
    }
   ],
   "source": [
    "kilt_wiki['full'][1]['anchors']['paragraph_id'][:5]"
   ]
  },
  {
   "cell_type": "code",
   "execution_count": 83,
   "metadata": {},
   "outputs": [
    {
     "data": {
      "text/plain": [
       "[(56, 74), (78, 93), (111, 126), (142, 159), (168, 174)]"
      ]
     },
     "execution_count": 83,
     "metadata": {},
     "output_type": "execute_result"
    }
   ],
   "source": [
    "list(zip(kilt_wiki['full'][1]['anchors']['start'][:5], kilt_wiki['full'][1]['anchors']['end'][:5]))"
   ]
  },
  {
   "cell_type": "code",
   "execution_count": 8,
   "metadata": {},
   "outputs": [
    {
     "name": "stderr",
     "output_type": "stream",
     "text": [
      "Reusing dataset kilt_tasks (/hdd/datasets/kilt_tasks/wow/1.0.0/c3ef4ce7d18c05d55d7481fa79f9a9234deb0b1696c062e9e05370eb36355cae)\n"
     ]
    }
   ],
   "source": [
    "data = dict()\n",
    "# WOW\n",
    "data['wow'] = load_dataset(\"kilt_tasks\", name=\"wow\", data_dir='/hdd/kilt/')"
   ]
  },
  {
   "cell_type": "code",
   "execution_count": 9,
   "metadata": {},
   "outputs": [
    {
     "name": "stderr",
     "output_type": "stream",
     "text": [
      "Reusing dataset kilt_tasks (/hdd/datasets/kilt_tasks/eli5/1.0.0/c3ef4ce7d18c05d55d7481fa79f9a9234deb0b1696c062e9e05370eb36355cae)\n"
     ]
    }
   ],
   "source": [
    "# eli5\n",
    "data['eli5'] = load_dataset(\"kilt_tasks\", name=\"eli5\", data_dir='/hdd/kilt/')"
   ]
  },
  {
   "cell_type": "code",
   "execution_count": 10,
   "metadata": {},
   "outputs": [
    {
     "name": "stderr",
     "output_type": "stream",
     "text": [
      "Reusing dataset kilt_tasks (/hdd/datasets/kilt_tasks/fever/1.0.0/c3ef4ce7d18c05d55d7481fa79f9a9234deb0b1696c062e9e05370eb36355cae)\n"
     ]
    }
   ],
   "source": [
    "# fever\n",
    "data['fever'] = load_dataset(\"kilt_tasks\", name=\"fever\", data_dir='/hdd/kilt/')"
   ]
  },
  {
   "cell_type": "code",
   "execution_count": 11,
   "metadata": {},
   "outputs": [
    {
     "name": "stderr",
     "output_type": "stream",
     "text": [
      "Reusing dataset kilt_tasks (/hdd/datasets/kilt_tasks/aidayago2/1.0.0/c3ef4ce7d18c05d55d7481fa79f9a9234deb0b1696c062e9e05370eb36355cae)\n"
     ]
    }
   ],
   "source": [
    "# aidayago2\n",
    "data['aidayago2'] = load_dataset(\"kilt_tasks\", name=\"aidayago2\", data_dir='/hdd/kilt/')"
   ]
  },
  {
   "cell_type": "code",
   "execution_count": 13,
   "metadata": {},
   "outputs": [
    {
     "name": "stdout",
     "output_type": "stream",
     "text": [
      "Downloading and preparing dataset kilt_tasks/wned (download: 24.95 MiB, generated: 24.55 MiB, post-processed: Unknown size, total: 49.50 MiB) to /hdd/datasets/kilt_tasks/wned/1.0.0/c3ef4ce7d18c05d55d7481fa79f9a9234deb0b1696c062e9e05370eb36355cae...\n"
     ]
    },
    {
     "data": {
      "application/vnd.jupyter.widget-view+json": {
       "model_id": "c6a5543ee6d04aa2b2f62ded4fc2ed2a",
       "version_major": 2,
       "version_minor": 0
      },
      "text/plain": [
       "HBox(children=(FloatProgress(value=1.0, bar_style='info', description='Downloading', layout=Layout(width='20px…"
      ]
     },
     "metadata": {},
     "output_type": "display_data"
    },
    {
     "name": "stdout",
     "output_type": "stream",
     "text": [
      "\n"
     ]
    },
    {
     "data": {
      "application/vnd.jupyter.widget-view+json": {
       "model_id": "",
       "version_major": 2,
       "version_minor": 0
      },
      "text/plain": [
       "HBox(children=(FloatProgress(value=1.0, bar_style='info', layout=Layout(width='20px'), max=1.0), HTML(value=''…"
      ]
     },
     "metadata": {},
     "output_type": "display_data"
    },
    {
     "data": {
      "application/vnd.jupyter.widget-view+json": {
       "model_id": "",
       "version_major": 2,
       "version_minor": 0
      },
      "text/plain": [
       "HBox(children=(FloatProgress(value=1.0, bar_style='info', layout=Layout(width='20px'), max=1.0), HTML(value=''…"
      ]
     },
     "metadata": {},
     "output_type": "display_data"
    },
    {
     "name": "stdout",
     "output_type": "stream",
     "text": [
      "Dataset kilt_tasks downloaded and prepared to /hdd/datasets/kilt_tasks/wned/1.0.0/c3ef4ce7d18c05d55d7481fa79f9a9234deb0b1696c062e9e05370eb36355cae. Subsequent calls will reuse this data.\n"
     ]
    }
   ],
   "source": [
    "# wned\n",
    "data['wned'] = load_dataset(\"kilt_tasks\", name=\"wned\", data_dir='/hdd/kilt/')"
   ]
  },
  {
   "cell_type": "code",
   "execution_count": 15,
   "metadata": {},
   "outputs": [
    {
     "name": "stdout",
     "output_type": "stream",
     "text": [
      "Downloading and preparing dataset kilt_tasks/cweb (download: 181.62 MiB, generated: 180.27 MiB, post-processed: Unknown size, total: 361.89 MiB) to /hdd/datasets/kilt_tasks/cweb/1.0.0/c3ef4ce7d18c05d55d7481fa79f9a9234deb0b1696c062e9e05370eb36355cae...\n"
     ]
    },
    {
     "name": "stderr",
     "output_type": "stream",
     "text": [
      "HF google storage unreachable. Downloading and preparing it from source\n"
     ]
    },
    {
     "data": {
      "application/vnd.jupyter.widget-view+json": {
       "model_id": "1dd7d59b31d448b1a5322e366ac17a59",
       "version_major": 2,
       "version_minor": 0
      },
      "text/plain": [
       "HBox(children=(FloatProgress(value=1.0, bar_style='info', description='Downloading', layout=Layout(width='20px…"
      ]
     },
     "metadata": {},
     "output_type": "display_data"
    },
    {
     "name": "stdout",
     "output_type": "stream",
     "text": [
      "\n"
     ]
    },
    {
     "data": {
      "application/vnd.jupyter.widget-view+json": {
       "model_id": "",
       "version_major": 2,
       "version_minor": 0
      },
      "text/plain": [
       "HBox(children=(FloatProgress(value=1.0, bar_style='info', layout=Layout(width='20px'), max=1.0), HTML(value=''…"
      ]
     },
     "metadata": {},
     "output_type": "display_data"
    },
    {
     "data": {
      "application/vnd.jupyter.widget-view+json": {
       "model_id": "",
       "version_major": 2,
       "version_minor": 0
      },
      "text/plain": [
       "HBox(children=(FloatProgress(value=1.0, bar_style='info', layout=Layout(width='20px'), max=1.0), HTML(value=''…"
      ]
     },
     "metadata": {},
     "output_type": "display_data"
    },
    {
     "name": "stdout",
     "output_type": "stream",
     "text": [
      "Dataset kilt_tasks downloaded and prepared to /hdd/datasets/kilt_tasks/cweb/1.0.0/c3ef4ce7d18c05d55d7481fa79f9a9234deb0b1696c062e9e05370eb36355cae. Subsequent calls will reuse this data.\n"
     ]
    }
   ],
   "source": [
    "# cweb\n",
    "data['cweb'] = load_dataset(\"kilt_tasks\", name=\"cweb\", data_dir='/hdd/kilt/')"
   ]
  },
  {
   "cell_type": "code",
   "execution_count": 18,
   "metadata": {},
   "outputs": [
    {
     "name": "stdout",
     "output_type": "stream",
     "text": [
      "Downloading and preparing dataset kilt_tasks/trex (download: 1.64 GiB, generated: 1.11 GiB, post-processed: Unknown size, total: 2.75 GiB) to /hdd/datasets/kilt_tasks/trex/1.0.0/c3ef4ce7d18c05d55d7481fa79f9a9234deb0b1696c062e9e05370eb36355cae...\n"
     ]
    },
    {
     "data": {
      "application/vnd.jupyter.widget-view+json": {
       "model_id": "f116ecf8b97a4abe91b09d7d5796c305",
       "version_major": 2,
       "version_minor": 0
      },
      "text/plain": [
       "HBox(children=(FloatProgress(value=1.0, bar_style='info', description='Downloading', layout=Layout(width='20px…"
      ]
     },
     "metadata": {},
     "output_type": "display_data"
    },
    {
     "name": "stdout",
     "output_type": "stream",
     "text": [
      "\n"
     ]
    },
    {
     "data": {
      "application/vnd.jupyter.widget-view+json": {
       "model_id": "106cfec19d4e4907ab62300a431a3bc5",
       "version_major": 2,
       "version_minor": 0
      },
      "text/plain": [
       "HBox(children=(FloatProgress(value=1.0, bar_style='info', description='Downloading', layout=Layout(width='20px…"
      ]
     },
     "metadata": {},
     "output_type": "display_data"
    },
    {
     "name": "stdout",
     "output_type": "stream",
     "text": [
      "\n"
     ]
    },
    {
     "data": {
      "application/vnd.jupyter.widget-view+json": {
       "model_id": "",
       "version_major": 2,
       "version_minor": 0
      },
      "text/plain": [
       "HBox(children=(FloatProgress(value=1.0, bar_style='info', layout=Layout(width='20px'), max=1.0), HTML(value=''…"
      ]
     },
     "metadata": {},
     "output_type": "display_data"
    },
    {
     "data": {
      "application/vnd.jupyter.widget-view+json": {
       "model_id": "",
       "version_major": 2,
       "version_minor": 0
      },
      "text/plain": [
       "HBox(children=(FloatProgress(value=1.0, bar_style='info', layout=Layout(width='20px'), max=1.0), HTML(value=''…"
      ]
     },
     "metadata": {},
     "output_type": "display_data"
    },
    {
     "data": {
      "application/vnd.jupyter.widget-view+json": {
       "model_id": "",
       "version_major": 2,
       "version_minor": 0
      },
      "text/plain": [
       "HBox(children=(FloatProgress(value=1.0, bar_style='info', layout=Layout(width='20px'), max=1.0), HTML(value=''…"
      ]
     },
     "metadata": {},
     "output_type": "display_data"
    },
    {
     "name": "stdout",
     "output_type": "stream",
     "text": [
      "Dataset kilt_tasks downloaded and prepared to /hdd/datasets/kilt_tasks/trex/1.0.0/c3ef4ce7d18c05d55d7481fa79f9a9234deb0b1696c062e9e05370eb36355cae. Subsequent calls will reuse this data.\n"
     ]
    }
   ],
   "source": [
    "# trex\n",
    "data['trex'] = load_dataset(\"kilt_tasks\", name=\"trex\", data_dir='/hdd/kilt/')"
   ]
  },
  {
   "cell_type": "code",
   "execution_count": 20,
   "metadata": {},
   "outputs": [
    {
     "name": "stdout",
     "output_type": "stream",
     "text": [
      "Downloading and preparing dataset kilt_tasks/structured_zeroshot (download: 71.46 MiB, generated: 47.61 MiB, post-processed: Unknown size, total: 119.07 MiB) to /hdd/datasets/kilt_tasks/structured_zeroshot/1.0.0/c3ef4ce7d18c05d55d7481fa79f9a9234deb0b1696c062e9e05370eb36355cae...\n"
     ]
    },
    {
     "data": {
      "application/vnd.jupyter.widget-view+json": {
       "model_id": "e9b9499157c34f9ca2302ef2b5ac9436",
       "version_major": 2,
       "version_minor": 0
      },
      "text/plain": [
       "HBox(children=(FloatProgress(value=1.0, bar_style='info', description='Downloading', layout=Layout(width='20px…"
      ]
     },
     "metadata": {},
     "output_type": "display_data"
    },
    {
     "name": "stdout",
     "output_type": "stream",
     "text": [
      "\n"
     ]
    },
    {
     "data": {
      "application/vnd.jupyter.widget-view+json": {
       "model_id": "a3ff6660c57f4807b647f0e8f797b3d5",
       "version_major": 2,
       "version_minor": 0
      },
      "text/plain": [
       "HBox(children=(FloatProgress(value=1.0, bar_style='info', description='Downloading', layout=Layout(width='20px…"
      ]
     },
     "metadata": {},
     "output_type": "display_data"
    },
    {
     "name": "stdout",
     "output_type": "stream",
     "text": [
      "\n"
     ]
    },
    {
     "data": {
      "application/vnd.jupyter.widget-view+json": {
       "model_id": "614877227b544c03a4312718f2a1e4f2",
       "version_major": 2,
       "version_minor": 0
      },
      "text/plain": [
       "HBox(children=(FloatProgress(value=1.0, bar_style='info', description='Downloading', layout=Layout(width='20px…"
      ]
     },
     "metadata": {},
     "output_type": "display_data"
    },
    {
     "name": "stdout",
     "output_type": "stream",
     "text": [
      "\n"
     ]
    },
    {
     "data": {
      "application/vnd.jupyter.widget-view+json": {
       "model_id": "",
       "version_major": 2,
       "version_minor": 0
      },
      "text/plain": [
       "HBox(children=(FloatProgress(value=1.0, bar_style='info', layout=Layout(width='20px'), max=1.0), HTML(value=''…"
      ]
     },
     "metadata": {},
     "output_type": "display_data"
    },
    {
     "data": {
      "application/vnd.jupyter.widget-view+json": {
       "model_id": "",
       "version_major": 2,
       "version_minor": 0
      },
      "text/plain": [
       "HBox(children=(FloatProgress(value=1.0, bar_style='info', layout=Layout(width='20px'), max=1.0), HTML(value=''…"
      ]
     },
     "metadata": {},
     "output_type": "display_data"
    },
    {
     "data": {
      "application/vnd.jupyter.widget-view+json": {
       "model_id": "",
       "version_major": 2,
       "version_minor": 0
      },
      "text/plain": [
       "HBox(children=(FloatProgress(value=1.0, bar_style='info', layout=Layout(width='20px'), max=1.0), HTML(value=''…"
      ]
     },
     "metadata": {},
     "output_type": "display_data"
    },
    {
     "name": "stdout",
     "output_type": "stream",
     "text": [
      "Dataset kilt_tasks downloaded and prepared to /hdd/datasets/kilt_tasks/structured_zeroshot/1.0.0/c3ef4ce7d18c05d55d7481fa79f9a9234deb0b1696c062e9e05370eb36355cae. Subsequent calls will reuse this data.\n"
     ]
    }
   ],
   "source": [
    "# structured_zeroshot\n",
    "data['structured_zeroshot'] = load_dataset(\"kilt_tasks\", name=\"structured_zeroshot\", data_dir='/hdd/kilt/')"
   ]
  },
  {
   "cell_type": "code",
   "execution_count": 24,
   "metadata": {},
   "outputs": [
    {
     "name": "stdout",
     "output_type": "stream",
     "text": [
      "Downloading and preparing dataset kilt_tasks/nq (download: 57.38 MiB, generated: 35.20 MiB, post-processed: Unknown size, total: 92.58 MiB) to /hdd/datasets/kilt_tasks/nq/1.0.0/c3ef4ce7d18c05d55d7481fa79f9a9234deb0b1696c062e9e05370eb36355cae...\n"
     ]
    },
    {
     "name": "stderr",
     "output_type": "stream",
     "text": [
      "HF google storage unreachable. Downloading and preparing it from source\n"
     ]
    },
    {
     "data": {
      "application/vnd.jupyter.widget-view+json": {
       "model_id": "5d50b6640d9d422bb1ed1897082b9663",
       "version_major": 2,
       "version_minor": 0
      },
      "text/plain": [
       "HBox(children=(FloatProgress(value=1.0, bar_style='info', description='Downloading', layout=Layout(width='20px…"
      ]
     },
     "metadata": {},
     "output_type": "display_data"
    },
    {
     "name": "stdout",
     "output_type": "stream",
     "text": [
      "\n"
     ]
    },
    {
     "data": {
      "application/vnd.jupyter.widget-view+json": {
       "model_id": "",
       "version_major": 2,
       "version_minor": 0
      },
      "text/plain": [
       "HBox(children=(FloatProgress(value=1.0, bar_style='info', layout=Layout(width='20px'), max=1.0), HTML(value=''…"
      ]
     },
     "metadata": {},
     "output_type": "display_data"
    },
    {
     "data": {
      "application/vnd.jupyter.widget-view+json": {
       "model_id": "",
       "version_major": 2,
       "version_minor": 0
      },
      "text/plain": [
       "HBox(children=(FloatProgress(value=1.0, bar_style='info', layout=Layout(width='20px'), max=1.0), HTML(value=''…"
      ]
     },
     "metadata": {},
     "output_type": "display_data"
    },
    {
     "data": {
      "application/vnd.jupyter.widget-view+json": {
       "model_id": "",
       "version_major": 2,
       "version_minor": 0
      },
      "text/plain": [
       "HBox(children=(FloatProgress(value=1.0, bar_style='info', layout=Layout(width='20px'), max=1.0), HTML(value=''…"
      ]
     },
     "metadata": {},
     "output_type": "display_data"
    },
    {
     "name": "stdout",
     "output_type": "stream",
     "text": [
      "Dataset kilt_tasks downloaded and prepared to /hdd/datasets/kilt_tasks/nq/1.0.0/c3ef4ce7d18c05d55d7481fa79f9a9234deb0b1696c062e9e05370eb36355cae. Subsequent calls will reuse this data.\n"
     ]
    }
   ],
   "source": [
    "# nq\n",
    "data['nq'] = load_dataset(\"kilt_tasks\", name=\"nq\", data_dir='/hdd/kilt/')"
   ]
  },
  {
   "cell_type": "code",
   "execution_count": 28,
   "metadata": {},
   "outputs": [
    {
     "name": "stdout",
     "output_type": "stream",
     "text": [
      "Downloading and preparing dataset kilt_tasks/hotpotqa (download: 54.85 MiB, generated: 35.15 MiB, post-processed: Unknown size, total: 90.00 MiB) to /hdd/datasets/kilt_tasks/hotpotqa/1.0.0/c3ef4ce7d18c05d55d7481fa79f9a9234deb0b1696c062e9e05370eb36355cae...\n"
     ]
    },
    {
     "data": {
      "application/vnd.jupyter.widget-view+json": {
       "model_id": "96ffaf01d64b4876bf19edba70bf01d7",
       "version_major": 2,
       "version_minor": 0
      },
      "text/plain": [
       "HBox(children=(FloatProgress(value=1.0, bar_style='info', description='Downloading', layout=Layout(width='20px…"
      ]
     },
     "metadata": {},
     "output_type": "display_data"
    },
    {
     "name": "stdout",
     "output_type": "stream",
     "text": [
      "\n"
     ]
    },
    {
     "data": {
      "application/vnd.jupyter.widget-view+json": {
       "model_id": "f666f9d1bd4d4f14b3fa18e49862114a",
       "version_major": 2,
       "version_minor": 0
      },
      "text/plain": [
       "HBox(children=(FloatProgress(value=1.0, bar_style='info', description='Downloading', layout=Layout(width='20px…"
      ]
     },
     "metadata": {},
     "output_type": "display_data"
    },
    {
     "name": "stdout",
     "output_type": "stream",
     "text": [
      "\n"
     ]
    },
    {
     "data": {
      "application/vnd.jupyter.widget-view+json": {
       "model_id": "",
       "version_major": 2,
       "version_minor": 0
      },
      "text/plain": [
       "HBox(children=(FloatProgress(value=1.0, bar_style='info', layout=Layout(width='20px'), max=1.0), HTML(value=''…"
      ]
     },
     "metadata": {},
     "output_type": "display_data"
    },
    {
     "data": {
      "application/vnd.jupyter.widget-view+json": {
       "model_id": "",
       "version_major": 2,
       "version_minor": 0
      },
      "text/plain": [
       "HBox(children=(FloatProgress(value=1.0, bar_style='info', layout=Layout(width='20px'), max=1.0), HTML(value=''…"
      ]
     },
     "metadata": {},
     "output_type": "display_data"
    },
    {
     "data": {
      "application/vnd.jupyter.widget-view+json": {
       "model_id": "",
       "version_major": 2,
       "version_minor": 0
      },
      "text/plain": [
       "HBox(children=(FloatProgress(value=1.0, bar_style='info', layout=Layout(width='20px'), max=1.0), HTML(value=''…"
      ]
     },
     "metadata": {},
     "output_type": "display_data"
    },
    {
     "name": "stdout",
     "output_type": "stream",
     "text": [
      "Dataset kilt_tasks downloaded and prepared to /hdd/datasets/kilt_tasks/hotpotqa/1.0.0/c3ef4ce7d18c05d55d7481fa79f9a9234deb0b1696c062e9e05370eb36355cae. Subsequent calls will reuse this data.\n"
     ]
    }
   ],
   "source": [
    "# hotpotqa\n",
    "data['hotpotqa'] = load_dataset(\"kilt_tasks\", name=\"hotpotqa\", data_dir='/hdd/kilt/')"
   ]
  },
  {
   "cell_type": "code",
   "execution_count": 30,
   "metadata": {},
   "outputs": [
    {
     "name": "stdout",
     "output_type": "stream",
     "text": [
      "Downloading and preparing dataset kilt_tasks/triviaqa_support_only (download: 106.38 MiB, generated: 75.52 MiB, post-processed: Unknown size, total: 181.90 MiB) to /hdd/datasets/kilt_tasks/triviaqa_support_only/1.0.0/c3ef4ce7d18c05d55d7481fa79f9a9234deb0b1696c062e9e05370eb36355cae...\n"
     ]
    },
    {
     "name": "stderr",
     "output_type": "stream",
     "text": [
      "HF google storage unreachable. Downloading and preparing it from source\n"
     ]
    },
    {
     "data": {
      "application/vnd.jupyter.widget-view+json": {
       "model_id": "0b9a6eaed706412c9e51c1fb4df10df0",
       "version_major": 2,
       "version_minor": 0
      },
      "text/plain": [
       "HBox(children=(FloatProgress(value=1.0, bar_style='info', description='Downloading', layout=Layout(width='20px…"
      ]
     },
     "metadata": {},
     "output_type": "display_data"
    },
    {
     "name": "stdout",
     "output_type": "stream",
     "text": [
      "\n"
     ]
    },
    {
     "data": {
      "application/vnd.jupyter.widget-view+json": {
       "model_id": "",
       "version_major": 2,
       "version_minor": 0
      },
      "text/plain": [
       "HBox(children=(FloatProgress(value=1.0, bar_style='info', layout=Layout(width='20px'), max=1.0), HTML(value=''…"
      ]
     },
     "metadata": {},
     "output_type": "display_data"
    },
    {
     "data": {
      "application/vnd.jupyter.widget-view+json": {
       "model_id": "",
       "version_major": 2,
       "version_minor": 0
      },
      "text/plain": [
       "HBox(children=(FloatProgress(value=1.0, bar_style='info', layout=Layout(width='20px'), max=1.0), HTML(value=''…"
      ]
     },
     "metadata": {},
     "output_type": "display_data"
    },
    {
     "data": {
      "application/vnd.jupyter.widget-view+json": {
       "model_id": "",
       "version_major": 2,
       "version_minor": 0
      },
      "text/plain": [
       "HBox(children=(FloatProgress(value=1.0, bar_style='info', layout=Layout(width='20px'), max=1.0), HTML(value=''…"
      ]
     },
     "metadata": {},
     "output_type": "display_data"
    },
    {
     "name": "stdout",
     "output_type": "stream",
     "text": [
      "Dataset kilt_tasks downloaded and prepared to /hdd/datasets/kilt_tasks/triviaqa_support_only/1.0.0/c3ef4ce7d18c05d55d7481fa79f9a9234deb0b1696c062e9e05370eb36355cae. Subsequent calls will reuse this data.\n"
     ]
    }
   ],
   "source": [
    "# triviaqa_support_only\n",
    "data['triviaqa_support_only'] = load_dataset(\"kilt_tasks\", name=\"triviaqa_support_only\", data_dir='/hdd/kilt/')"
   ]
  },
  {
   "cell_type": "code",
   "execution_count": 39,
   "metadata": {},
   "outputs": [
    {
     "data": {
      "application/vnd.jupyter.widget-view+json": {
       "model_id": "668edd1eb6334625adb7f37c8f5063d2",
       "version_major": 2,
       "version_minor": 0
      },
      "text/plain": [
       "HBox(children=(FloatProgress(value=0.0, description='Downloading', max=3435.0, style=ProgressStyle(description…"
      ]
     },
     "metadata": {},
     "output_type": "display_data"
    },
    {
     "name": "stdout",
     "output_type": "stream",
     "text": [
      "\n"
     ]
    },
    {
     "data": {
      "application/vnd.jupyter.widget-view+json": {
       "model_id": "a9c629ea25174a47abff307d3e04ce39",
       "version_major": 2,
       "version_minor": 0
      },
      "text/plain": [
       "HBox(children=(FloatProgress(value=0.0, description='Downloading', max=1408.0, style=ProgressStyle(description…"
      ]
     },
     "metadata": {},
     "output_type": "display_data"
    },
    {
     "name": "stdout",
     "output_type": "stream",
     "text": [
      "\n",
      "Downloading and preparing dataset trivia_qa/unfiltered.nocontext (download: 603.25 MiB, generated: 71.11 MiB, post-processed: Unknown size, total: 674.35 MiB) to /hdd/datasets/trivia_qa/unfiltered.nocontext/1.1.0/e734e28133f4d9a353af322aa52b9f266f6f27cbf2f072690a1694e577546b0d...\n"
     ]
    },
    {
     "data": {
      "application/vnd.jupyter.widget-view+json": {
       "model_id": "02cdf545e74843408f46b3816c83fa4f",
       "version_major": 2,
       "version_minor": 0
      },
      "text/plain": [
       "HBox(children=(FloatProgress(value=0.0, description='Downloading', max=632549060.0, style=ProgressStyle(descri…"
      ]
     },
     "metadata": {},
     "output_type": "display_data"
    },
    {
     "name": "stdout",
     "output_type": "stream",
     "text": [
      "\n"
     ]
    },
    {
     "data": {
      "application/vnd.jupyter.widget-view+json": {
       "model_id": "",
       "version_major": 2,
       "version_minor": 0
      },
      "text/plain": [
       "HBox(children=(FloatProgress(value=1.0, bar_style='info', layout=Layout(width='20px'), max=1.0), HTML(value=''…"
      ]
     },
     "metadata": {},
     "output_type": "display_data"
    },
    {
     "data": {
      "application/vnd.jupyter.widget-view+json": {
       "model_id": "",
       "version_major": 2,
       "version_minor": 0
      },
      "text/plain": [
       "HBox(children=(FloatProgress(value=1.0, bar_style='info', layout=Layout(width='20px'), max=1.0), HTML(value=''…"
      ]
     },
     "metadata": {},
     "output_type": "display_data"
    },
    {
     "data": {
      "application/vnd.jupyter.widget-view+json": {
       "model_id": "",
       "version_major": 2,
       "version_minor": 0
      },
      "text/plain": [
       "HBox(children=(FloatProgress(value=1.0, bar_style='info', layout=Layout(width='20px'), max=1.0), HTML(value=''…"
      ]
     },
     "metadata": {},
     "output_type": "display_data"
    },
    {
     "name": "stdout",
     "output_type": "stream",
     "text": [
      "Dataset trivia_qa downloaded and prepared to /hdd/datasets/trivia_qa/unfiltered.nocontext/1.1.0/e734e28133f4d9a353af322aa52b9f266f6f27cbf2f072690a1694e577546b0d. Subsequent calls will reuse this data.\n"
     ]
    }
   ],
   "source": [
    "trivia_qa = load_dataset('trivia_qa', 'unfiltered.nocontext')"
   ]
  },
  {
   "cell_type": "code",
   "execution_count": 34,
   "metadata": {},
   "outputs": [],
   "source": [
    "assert len(data.keys()) == 11"
   ]
  },
  {
   "cell_type": "code",
   "execution_count": 41,
   "metadata": {},
   "outputs": [
    {
     "data": {
      "text/plain": [
       "{'answer': {'aliases': ['First Traffic Lights'],\n",
       "  'matched_wiki_entity_name': '',\n",
       "  'normalized_aliases': ['first traffic lights'],\n",
       "  'normalized_matched_wiki_entity_name': '',\n",
       "  'normalized_value': 'first traffic lights',\n",
       "  'type': 'FreeForm',\n",
       "  'value': 'First Traffic Lights'},\n",
       " 'entity_pages': {'doc_source': [],\n",
       "  'filename': [],\n",
       "  'title': [],\n",
       "  'wiki_context': []},\n",
       " 'question': 'What first appeared in Ohio in 1914 to affect transport?',\n",
       " 'question_id': 'tc_12',\n",
       " 'question_source': 'http://www.triviacountry.com/',\n",
       " 'search_results': {'description': [],\n",
       "  'filename': [],\n",
       "  'rank': [],\n",
       "  'search_context': [],\n",
       "  'title': [],\n",
       "  'url': []}}"
      ]
     },
     "execution_count": 41,
     "metadata": {},
     "output_type": "execute_result"
    }
   ],
   "source": [
    "trivia_qa['train'][10]"
   ]
  },
  {
   "cell_type": "code",
   "execution_count": 38,
   "metadata": {},
   "outputs": [
    {
     "data": {
      "text/plain": [
       "{'id': 'dpql_5212',\n",
       " 'input': '',\n",
       " 'meta': {'left_context': '',\n",
       "  'mention': '',\n",
       "  'obj_surface': [],\n",
       "  'partial_evidence': [],\n",
       "  'right_context': '',\n",
       "  'sub_surface': [],\n",
       "  'subj_aliases': [],\n",
       "  'template_questions': []},\n",
       " 'output': [{'answer': 'Conference of NGOs',\n",
       "   'meta': {'score': -1},\n",
       "   'provenance': []},\n",
       "  {'answer': 'CONGO', 'meta': {'score': -1}, 'provenance': []},\n",
       "  {'answer': 'The Conference of NGOs',\n",
       "   'meta': {'score': -1},\n",
       "   'provenance': []},\n",
       "  {'answer': 'conference of ngos', 'meta': {'score': -1}, 'provenance': []},\n",
       "  {'answer': 'congo', 'meta': {'score': -1}, 'provenance': []}]}"
      ]
     },
     "execution_count": 38,
     "metadata": {},
     "output_type": "execute_result"
    }
   ],
   "source": [
    "data['triviaqa_support_only']['train'][10]"
   ]
  },
  {
   "cell_type": "code",
   "execution_count": 42,
   "metadata": {},
   "outputs": [
    {
     "data": {
      "application/vnd.jupyter.widget-view+json": {
       "model_id": "0eb293d81bc540e2a5b254ed3a21eaf9",
       "version_major": 2,
       "version_minor": 0
      },
      "text/plain": [
       "HBox(children=(FloatProgress(value=0.0, max=62.0), HTML(value='')))"
      ]
     },
     "metadata": {},
     "output_type": "display_data"
    },
    {
     "name": "stdout",
     "output_type": "stream",
     "text": [
      "\n"
     ]
    },
    {
     "data": {
      "application/vnd.jupyter.widget-view+json": {
       "model_id": "3690a5ca424345c691149b5e300d453b",
       "version_major": 2,
       "version_minor": 0
      },
      "text/plain": [
       "HBox(children=(FloatProgress(value=0.0, max=61817.0), HTML(value='')))"
      ]
     },
     "metadata": {},
     "output_type": "display_data"
    },
    {
     "name": "stdout",
     "output_type": "stream",
     "text": [
      "\n"
     ]
    },
    {
     "data": {
      "application/vnd.jupyter.widget-view+json": {
       "model_id": "cae39525f97e42368ed08b5d139506a5",
       "version_major": 2,
       "version_minor": 0
      },
      "text/plain": [
       "HBox(children=(FloatProgress(value=0.0, max=6.0), HTML(value='')))"
      ]
     },
     "metadata": {},
     "output_type": "display_data"
    },
    {
     "name": "stdout",
     "output_type": "stream",
     "text": [
      "\n"
     ]
    },
    {
     "data": {
      "application/vnd.jupyter.widget-view+json": {
       "model_id": "a8bf6a658ff14db7a937442837102244",
       "version_major": 2,
       "version_minor": 0
      },
      "text/plain": [
       "HBox(children=(FloatProgress(value=0.0, max=5355.0), HTML(value='')))"
      ]
     },
     "metadata": {},
     "output_type": "display_data"
    },
    {
     "name": "stdout",
     "output_type": "stream",
     "text": [
      "\n"
     ]
    },
    {
     "data": {
      "application/vnd.jupyter.widget-view+json": {
       "model_id": "78a7a5fdf23643509ed789e2af0fbc40",
       "version_major": 2,
       "version_minor": 0
      },
      "text/plain": [
       "HBox(children=(FloatProgress(value=0.0, max=7.0), HTML(value='')))"
      ]
     },
     "metadata": {},
     "output_type": "display_data"
    },
    {
     "name": "stdout",
     "output_type": "stream",
     "text": [
      "\n"
     ]
    },
    {
     "data": {
      "application/vnd.jupyter.widget-view+json": {
       "model_id": "3bcae34b2ebd411791e0882da3a49031",
       "version_major": 2,
       "version_minor": 0
      },
      "text/plain": [
       "HBox(children=(FloatProgress(value=0.0, max=6578.0), HTML(value='')))"
      ]
     },
     "metadata": {},
     "output_type": "display_data"
    },
    {
     "name": "stdout",
     "output_type": "stream",
     "text": [
      "\n"
     ]
    }
   ],
   "source": [
    "# The KILT IDs can then be mapped to the TriviaQA questions with:\n",
    "triviaqa_map = {}\n",
    "\n",
    "for k in ['train', 'validation', 'test']:\n",
    "    triviaqa_map = dict([(q_id, i) for i, q_id in enumerate(trivia_qa[k]['question_id'])])\n",
    "    data['triviaqa_support_only'][k] = data['triviaqa_support_only'][k].filter(lambda x: x['id'] in triviaqa_map)\n",
    "    data['triviaqa_support_only'][k] = data['triviaqa_support_only'][k].map(lambda x: {'input': trivia_qa[k][triviaqa_map[x['id']]]['question']})"
   ]
  },
  {
   "cell_type": "code",
   "execution_count": 89,
   "metadata": {},
   "outputs": [
    {
     "data": {
      "text/plain": [
       "{'id': 'tc_1819',\n",
       " 'input': 'In which country was Emilio Estevez born?',\n",
       " 'meta': {'left_context': '',\n",
       "  'mention': '',\n",
       "  'obj_surface': [],\n",
       "  'partial_evidence': [],\n",
       "  'right_context': '',\n",
       "  'sub_surface': [],\n",
       "  'subj_aliases': [],\n",
       "  'template_questions': []},\n",
       " 'output': [{'answer': 'The United States of America',\n",
       "   'meta': {'score': -1},\n",
       "   'provenance': []},\n",
       "  {'answer': 'United States Of Amerca',\n",
       "   'meta': {'score': -1},\n",
       "   'provenance': []},\n",
       "  {'answer': 'Us of a', 'meta': {'score': -1}, 'provenance': []},\n",
       "  {'answer': 'U.–S.–A.', 'meta': {'score': -1}, 'provenance': []},\n",
       "  {'answer': 'Americaland', 'meta': {'score': -1}, 'provenance': []},\n",
       "  {'answer': 'United States (U.S.A.)',\n",
       "   'meta': {'score': -1},\n",
       "   'provenance': []},\n",
       "  {'answer': 'Amurika', 'meta': {'score': -1}, 'provenance': []},\n",
       "  {'answer': 'Unite states of america',\n",
       "   'meta': {'score': -1},\n",
       "   'provenance': []},\n",
       "  {'answer': 'United States of America (redirect)',\n",
       "   'meta': {'score': -1},\n",
       "   'provenance': []},\n",
       "  {'answer': 'The U S A', 'meta': {'score': -1}, 'provenance': []},\n",
       "  {'answer': 'Unietd States', 'meta': {'score': -1}, 'provenance': []},\n",
       "  {'answer': 'EE UU', 'meta': {'score': -1}, 'provenance': []},\n",
       "  {'answer': 'The U.S.A.', 'meta': {'score': -1}, 'provenance': []},\n",
       "  {'answer': 'U.-S.-A.', 'meta': {'score': -1}, 'provenance': []},\n",
       "  {'answer': 'Usa', 'meta': {'score': -1}, 'provenance': []},\n",
       "  {'answer': 'United Staets of America',\n",
       "   'meta': {'score': -1},\n",
       "   'provenance': []},\n",
       "  {'answer': 'Unites States', 'meta': {'score': -1}, 'provenance': []},\n",
       "  {'answer': \"États-Unis d'Amérique\", 'meta': {'score': -1}, 'provenance': []},\n",
       "  {'answer': 'Verenigde State', 'meta': {'score': -1}, 'provenance': []},\n",
       "  {'answer': 'U.–S.', 'meta': {'score': -1}, 'provenance': []},\n",
       "  {'answer': 'The United States of America.',\n",
       "   'meta': {'score': -1},\n",
       "   'provenance': []},\n",
       "  {'answer': 'The U-S-A', 'meta': {'score': -1}, 'provenance': []},\n",
       "  {'answer': 'EEUU', 'meta': {'score': -1}, 'provenance': []},\n",
       "  {'answer': 'U. S. A.', 'meta': {'score': -1}, 'provenance': []},\n",
       "  {'answer': 'Nagkaisang mga Estado', 'meta': {'score': -1}, 'provenance': []},\n",
       "  {'answer': 'The U. S. of America', 'meta': {'score': -1}, 'provenance': []},\n",
       "  {'answer': 'The USA', 'meta': {'score': -1}, 'provenance': []},\n",
       "  {'answer': 'America (United States)',\n",
       "   'meta': {'score': -1},\n",
       "   'provenance': []},\n",
       "  {'answer': 'The U. S. A.', 'meta': {'score': -1}, 'provenance': []},\n",
       "  {'answer': 'U S of America', 'meta': {'score': -1}, 'provenance': []},\n",
       "  {'answer': 'UNITED STATES', 'meta': {'score': -1}, 'provenance': []},\n",
       "  {'answer': 'Estados Unidos', 'meta': {'score': -1}, 'provenance': []},\n",
       "  {'answer': 'The U–S', 'meta': {'score': -1}, 'provenance': []},\n",
       "  {'answer': 'American United States',\n",
       "   'meta': {'score': -1},\n",
       "   'provenance': []},\n",
       "  {'answer': 'US and A', 'meta': {'score': -1}, 'provenance': []},\n",
       "  {'answer': 'Unitd states', 'meta': {'score': -1}, 'provenance': []},\n",
       "  {'answer': 'The US of A', 'meta': {'score': -1}, 'provenance': []},\n",
       "  {'answer': 'EE.UU.', 'meta': {'score': -1}, 'provenance': []},\n",
       "  {'answer': 'U-S', 'meta': {'score': -1}, 'provenance': []},\n",
       "  {'answer': 'The U-S', 'meta': {'score': -1}, 'provenance': []},\n",
       "  {'answer': 'Etymology of the United States',\n",
       "   'meta': {'score': -1},\n",
       "   'provenance': []},\n",
       "  {'answer': 'U.S.A.)', 'meta': {'score': -1}, 'provenance': []},\n",
       "  {'answer': 'EE. UU.', 'meta': {'score': -1}, 'provenance': []},\n",
       "  {'answer': 'United states of america',\n",
       "   'meta': {'score': -1},\n",
       "   'provenance': []},\n",
       "  {'answer': 'US of america', 'meta': {'score': -1}, 'provenance': []},\n",
       "  {'answer': 'Verenigde State van Amerika',\n",
       "   'meta': {'score': -1},\n",
       "   'provenance': []},\n",
       "  {'answer': 'Nited States', 'meta': {'score': -1}, 'provenance': []},\n",
       "  {'answer': 'United-States', 'meta': {'score': -1}, 'provenance': []},\n",
       "  {'answer': 'Unite States', 'meta': {'score': -1}, 'provenance': []},\n",
       "  {'answer': 'Estados Unidos de América',\n",
       "   'meta': {'score': -1},\n",
       "   'provenance': []},\n",
       "  {'answer': 'UnitedStates', 'meta': {'score': -1}, 'provenance': []},\n",
       "  {'answer': 'Estaos Unios', 'meta': {'score': -1}, 'provenance': []},\n",
       "  {'answer': 'US of America', 'meta': {'score': -1}, 'provenance': []},\n",
       "  {'answer': 'The Usa', 'meta': {'score': -1}, 'provenance': []},\n",
       "  {'answer': 'United states of America',\n",
       "   'meta': {'score': -1},\n",
       "   'provenance': []},\n",
       "  {'answer': 'Untied States of America',\n",
       "   'meta': {'score': -1},\n",
       "   'provenance': []},\n",
       "  {'answer': 'The U S of America', 'meta': {'score': -1}, 'provenance': []},\n",
       "  {'answer': 'THE AMERICAN UNITED STATES',\n",
       "   'meta': {'score': -1},\n",
       "   'provenance': []},\n",
       "  {'answer': 'The United-States', 'meta': {'score': -1}, 'provenance': []},\n",
       "  {'answer': 'U S A', 'meta': {'score': -1}, 'provenance': []},\n",
       "  {'answer': 'AmericA', 'meta': {'score': -1}, 'provenance': []},\n",
       "  {'answer': 'Estados Unidos de America',\n",
       "   'meta': {'score': -1},\n",
       "   'provenance': []},\n",
       "  {'answer': 'United states', 'meta': {'score': -1}, 'provenance': []},\n",
       "  {'answer': 'The U.S. of America', 'meta': {'score': -1}, 'provenance': []},\n",
       "  {'answer': 'Amerka', 'meta': {'score': -1}, 'provenance': []},\n",
       "  {'answer': 'United–States', 'meta': {'score': -1}, 'provenance': []},\n",
       "  {'answer': 'U.s.a.', 'meta': {'score': -1}, 'provenance': []},\n",
       "  {'answer': 'United States of America',\n",
       "   'meta': {'score': -1},\n",
       "   'provenance': []},\n",
       "  {'answer': 'United State of America',\n",
       "   'meta': {'score': -1},\n",
       "   'provenance': []},\n",
       "  {'answer': 'United States (US)', 'meta': {'score': -1}, 'provenance': []},\n",
       "  {'answer': 'The U.S. of A', 'meta': {'score': -1}, 'provenance': []},\n",
       "  {'answer': 'America',\n",
       "   'meta': {'score': -1},\n",
       "   'provenance': [{'bleu_score': 1.0,\n",
       "     'end_character': 50,\n",
       "     'end_paragraph_id': 1,\n",
       "     'meta': {'annotation_id': '-1',\n",
       "      'evidence_span': [],\n",
       "      'fever_page_id': '',\n",
       "      'fever_sentence_id': -1,\n",
       "      'yes_no_answer': ''},\n",
       "     'section': 'Section::::Abstract.',\n",
       "     'start_character': 43,\n",
       "     'start_paragraph_id': 1,\n",
       "     'title': 'Emilio Estevez',\n",
       "     'wikipedia_id': '350841'}]},\n",
       "  {'answer': 'Amercia', 'meta': {'score': -1}, 'provenance': []},\n",
       "  {'answer': \"Stati Uniti d'America\", 'meta': {'score': -1}, 'provenance': []},\n",
       "  {'answer': 'Los Estados Unidos de America',\n",
       "   'meta': {'score': -1},\n",
       "   'provenance': []},\n",
       "  {'answer': 'United Stated', 'meta': {'score': -1}, 'provenance': []},\n",
       "  {'answer': 'U.S.', 'meta': {'score': -1}, 'provenance': []},\n",
       "  {'answer': 'United States (of America)',\n",
       "   'meta': {'score': -1},\n",
       "   'provenance': []},\n",
       "  {'answer': 'United States',\n",
       "   'meta': {'score': -1},\n",
       "   'provenance': [{'bleu_score': 1.0,\n",
       "     'end_character': 298,\n",
       "     'end_paragraph_id': 24,\n",
       "     'meta': {'annotation_id': '-1',\n",
       "      'evidence_span': [],\n",
       "      'fever_page_id': '',\n",
       "      'fever_sentence_id': -1,\n",
       "      'yes_no_answer': ''},\n",
       "     'section': 'Section::::Career.:Directing career.\\n',\n",
       "     'start_character': 285,\n",
       "     'start_paragraph_id': 24,\n",
       "     'title': 'Emilio Estevez',\n",
       "     'wikipedia_id': '350841'}]},\n",
       "  {'answer': 'States of America', 'meta': {'score': -1}, 'provenance': []},\n",
       "  {'answer': 'America-class', 'meta': {'score': -1}, 'provenance': []},\n",
       "  {'answer': 'Los Estados Unidos', 'meta': {'score': -1}, 'provenance': []},\n",
       "  {'answer': 'U,S,', 'meta': {'score': -1}, 'provenance': []},\n",
       "  {'answer': 'United States (country)',\n",
       "   'meta': {'score': -1},\n",
       "   'provenance': []},\n",
       "  {'answer': 'Federal United States', 'meta': {'score': -1}, 'provenance': []},\n",
       "  {'answer': 'ISO 3166-1:US', 'meta': {'score': -1}, 'provenance': []},\n",
       "  {'answer': 'Untied States', 'meta': {'score': -1}, 'provenance': []},\n",
       "  {'answer': 'The U.–S.–A.', 'meta': {'score': -1}, 'provenance': []},\n",
       "  {'answer': 'VS America', 'meta': {'score': -1}, 'provenance': []},\n",
       "  {'answer': 'Amurica', 'meta': {'score': -1}, 'provenance': []},\n",
       "  {'answer': \"Etats-Unis d'Amerique\", 'meta': {'score': -1}, 'provenance': []},\n",
       "  {'answer': 'US',\n",
       "   'meta': {'score': -1},\n",
       "   'provenance': [{'bleu_score': 1.0,\n",
       "     'end_character': 233,\n",
       "     'end_paragraph_id': 23,\n",
       "     'meta': {'annotation_id': '-1',\n",
       "      'evidence_span': [],\n",
       "      'fever_page_id': '',\n",
       "      'fever_sentence_id': -1,\n",
       "      'yes_no_answer': ''},\n",
       "     'section': 'Section::::Career.:Directing career.\\n',\n",
       "     'start_character': 231,\n",
       "     'start_paragraph_id': 23,\n",
       "     'title': 'Emilio Estevez',\n",
       "     'wikipedia_id': '350841'}]},\n",
       "  {'answer': 'U.S. OF A', 'meta': {'score': -1}, 'provenance': []},\n",
       "  {'answer': 'USofA', 'meta': {'score': -1}, 'provenance': []},\n",
       "  {'answer': 'Etats-Unis', 'meta': {'score': -1}, 'provenance': []},\n",
       "  {'answer': 'U.S. of A', 'meta': {'score': -1}, 'provenance': []},\n",
       "  {'answer': 'United States of America (U.S.A.)',\n",
       "   'meta': {'score': -1},\n",
       "   'provenance': []},\n",
       "  {'answer': 'Amarica', 'meta': {'score': -1}, 'provenance': []},\n",
       "  {'answer': 'The United States', 'meta': {'score': -1}, 'provenance': []},\n",
       "  {'answer': 'U-S-A', 'meta': {'score': -1}, 'provenance': []},\n",
       "  {'answer': 'United States/Introduction',\n",
       "   'meta': {'score': -1},\n",
       "   'provenance': []},\n",
       "  {'answer': 'The Us', 'meta': {'score': -1}, 'provenance': []},\n",
       "  {'answer': 'Unitesd states', 'meta': {'score': -1}, 'provenance': []},\n",
       "  {'answer': 'The U S of A', 'meta': {'score': -1}, 'provenance': []},\n",
       "  {'answer': 'America class', 'meta': {'score': -1}, 'provenance': []},\n",
       "  {'answer': 'America magazine', 'meta': {'score': -1}, 'provenance': []},\n",
       "  {'answer': 'الولايات المتحدة الأمريكية',\n",
       "   'meta': {'score': -1},\n",
       "   'provenance': []},\n",
       "  {'answer': 'The U. S. of A', 'meta': {'score': -1}, 'provenance': []},\n",
       "  {'answer': 'U S', 'meta': {'score': -1}, 'provenance': []},\n",
       "  {'answer': '(USA)', 'meta': {'score': -1}, 'provenance': []},\n",
       "  {'answer': 'The United–States', 'meta': {'score': -1}, 'provenance': []},\n",
       "  {'answer': 'United States (U.S.)', 'meta': {'score': -1}, 'provenance': []},\n",
       "  {'answer': 'U.-S.', 'meta': {'score': -1}, 'provenance': []},\n",
       "  {'answer': 'United States of America (USA)',\n",
       "   'meta': {'score': -1},\n",
       "   'provenance': []},\n",
       "  {'answer': \"'merica\", 'meta': {'score': -1}, 'provenance': []},\n",
       "  {'answer': 'The US', 'meta': {'score': -1}, 'provenance': []},\n",
       "  {'answer': 'United States of America.',\n",
       "   'meta': {'score': -1},\n",
       "   'provenance': []},\n",
       "  {'answer': 'UNited States', 'meta': {'score': -1}, 'provenance': []},\n",
       "  {'answer': 'The U.S.', 'meta': {'score': -1}, 'provenance': []},\n",
       "  {'answer': 'AMERICA', 'meta': {'score': -1}, 'provenance': []},\n",
       "  {'answer': 'United States of America/OldPage',\n",
       "   'meta': {'score': -1},\n",
       "   'provenance': []},\n",
       "  {'answer': 'United+States', 'meta': {'score': -1}, 'provenance': []},\n",
       "  {'answer': 'The U S', 'meta': {'score': -1}, 'provenance': []},\n",
       "  {'answer': 'United Sates', 'meta': {'score': -1}, 'provenance': []},\n",
       "  {'answer': 'THE UNITED STATES OF AMERICA',\n",
       "   'meta': {'score': -1},\n",
       "   'provenance': []},\n",
       "  {'answer': 'U–S–A', 'meta': {'score': -1}, 'provenance': []},\n",
       "  {'answer': 'United States Of America',\n",
       "   'meta': {'score': -1},\n",
       "   'provenance': []},\n",
       "  {'answer': 'U.S. of America', 'meta': {'score': -1}, 'provenance': []},\n",
       "  {'answer': 'U–S', 'meta': {'score': -1}, 'provenance': []},\n",
       "  {'answer': 'Los Estados Unidos de América',\n",
       "   'meta': {'score': -1},\n",
       "   'provenance': []},\n",
       "  {'answer': 'The U.-S.', 'meta': {'score': -1}, 'provenance': []},\n",
       "  {'answer': 'United sates', 'meta': {'score': -1}, 'provenance': []},\n",
       "  {'answer': 'The United States Of America',\n",
       "   'meta': {'score': -1},\n",
       "   'provenance': []},\n",
       "  {'answer': 'America (country)', 'meta': {'score': -1}, 'provenance': []},\n",
       "  {'answer': 'United States of American',\n",
       "   'meta': {'score': -1},\n",
       "   'provenance': []},\n",
       "  {'answer': 'United state of america',\n",
       "   'meta': {'score': -1},\n",
       "   'provenance': []},\n",
       "  {'answer': 'The U.–S.', 'meta': {'score': -1}, 'provenance': []},\n",
       "  {'answer': 'Amurka', 'meta': {'score': -1}, 'provenance': []},\n",
       "  {'answer': 'U. S. of A', 'meta': {'score': -1}, 'provenance': []},\n",
       "  {'answer': 'The U. S.', 'meta': {'score': -1}, 'provenance': []},\n",
       "  {'answer': 'United States America', 'meta': {'score': -1}, 'provenance': []},\n",
       "  {'answer': 'US of A', 'meta': {'score': -1}, 'provenance': []},\n",
       "  {'answer': 'États-Unis', 'meta': {'score': -1}, 'provenance': []},\n",
       "  {'answer': 'USoA', 'meta': {'score': -1}, 'provenance': []},\n",
       "  {'answer': 'USA',\n",
       "   'meta': {'score': -1},\n",
       "   'provenance': [{'bleu_score': 1.0,\n",
       "     'end_character': 234,\n",
       "     'end_paragraph_id': 23,\n",
       "     'meta': {'annotation_id': '-1',\n",
       "      'evidence_span': [],\n",
       "      'fever_page_id': '',\n",
       "      'fever_sentence_id': -1,\n",
       "      'yes_no_answer': ''},\n",
       "     'section': 'Section::::Career.:Directing career.\\n',\n",
       "     'start_character': 231,\n",
       "     'start_paragraph_id': 23,\n",
       "     'title': 'Emilio Estevez',\n",
       "     'wikipedia_id': '350841'}]},\n",
       "  {'answer': 'Estaos Uníos', 'meta': {'score': -1}, 'provenance': []},\n",
       "  {'answer': 'America, United States of',\n",
       "   'meta': {'score': -1},\n",
       "   'provenance': []},\n",
       "  {'answer': 'U. S. of America', 'meta': {'score': -1}, 'provenance': []},\n",
       "  {'answer': 'U.S.American', 'meta': {'score': -1}, 'provenance': []},\n",
       "  {'answer': '(US)', 'meta': {'score': -1}, 'provenance': []},\n",
       "  {'answer': 'The U–S–A', 'meta': {'score': -1}, 'provenance': []},\n",
       "  {'answer': 'U. S.', 'meta': {'score': -1}, 'provenance': []},\n",
       "  {'answer': 'U.S. America', 'meta': {'score': -1}, 'provenance': []},\n",
       "  {'answer': 'U.S. A', 'meta': {'score': -1}, 'provenance': []},\n",
       "  {'answer': 'Yankee land', 'meta': {'score': -1}, 'provenance': []},\n",
       "  {'answer': 'America (US)', 'meta': {'score': -1}, 'provenance': []},\n",
       "  {'answer': 'U.S', 'meta': {'score': -1}, 'provenance': []},\n",
       "  {'answer': 'America (United States of)',\n",
       "   'meta': {'score': -1},\n",
       "   'provenance': []},\n",
       "  {'answer': 'US (country)', 'meta': {'score': -1}, 'provenance': []},\n",
       "  {'answer': 'UNITED STATES OF AMERICA',\n",
       "   'meta': {'score': -1},\n",
       "   'provenance': []},\n",
       "  {'answer': 'U.S.A', 'meta': {'score': -1}, 'provenance': []},\n",
       "  {'answer': 'Estados unidos', 'meta': {'score': -1}, 'provenance': []},\n",
       "  {'answer': 'Americia', 'meta': {'score': -1}, 'provenance': []},\n",
       "  {'answer': 'The US of america', 'meta': {'score': -1}, 'provenance': []},\n",
       "  {'answer': 'Vereinigte Staaten', 'meta': {'score': -1}, 'provenance': []},\n",
       "  {'answer': 'US America', 'meta': {'score': -1}, 'provenance': []},\n",
       "  {'answer': 'These United States of America',\n",
       "   'meta': {'score': -1},\n",
       "   'provenance': []},\n",
       "  {'answer': 'VS Amerika', 'meta': {'score': -1}, 'provenance': []},\n",
       "  {'answer': 'Name of the United States',\n",
       "   'meta': {'score': -1},\n",
       "   'provenance': []},\n",
       "  {'answer': 'The united states of america',\n",
       "   'meta': {'score': -1},\n",
       "   'provenance': []},\n",
       "  {'answer': 'Estatos Unitos', 'meta': {'score': -1}, 'provenance': []},\n",
       "  {'answer': 'America (USA)', 'meta': {'score': -1}, 'provenance': []},\n",
       "  {'answer': 'The U.-S.-A.', 'meta': {'score': -1}, 'provenance': []},\n",
       "  {'answer': 'United States of America/Introduction',\n",
       "   'meta': {'score': -1},\n",
       "   'provenance': []},\n",
       "  {'answer': 'The US of America', 'meta': {'score': -1}, 'provenance': []},\n",
       "  {'answer': 'Americophile', 'meta': {'score': -1}, 'provenance': []},\n",
       "  {'answer': 'V.S. America', 'meta': {'score': -1}, 'provenance': []},\n",
       "  {'answer': 'U.S.A.', 'meta': {'score': -1}, 'provenance': []},\n",
       "  {'answer': 'U S of A', 'meta': {'score': -1}, 'provenance': []},\n",
       "  {'answer': 'V.S. Amerika', 'meta': {'score': -1}, 'provenance': []},\n",
       "  {'answer': 'United+States+of+America',\n",
       "   'meta': {'score': -1},\n",
       "   'provenance': []},\n",
       "  {'answer': 'The Unites States of America',\n",
       "   'meta': {'score': -1},\n",
       "   'provenance': []},\n",
       "  {'answer': 'amarica', 'meta': {'score': -1}, 'provenance': []},\n",
       "  {'answer': 'stati uniti d america', 'meta': {'score': -1}, 'provenance': []},\n",
       "  {'answer': 'usofa', 'meta': {'score': -1}, 'provenance': []},\n",
       "  {'answer': 'federal united states', 'meta': {'score': -1}, 'provenance': []},\n",
       "  {'answer': 'u s', 'meta': {'score': -1}, 'provenance': []},\n",
       "  {'answer': 'u –s –', 'meta': {'score': -1}, 'provenance': []},\n",
       "  {'answer': 'united states country', 'meta': {'score': -1}, 'provenance': []},\n",
       "  {'answer': 'americia', 'meta': {'score': -1}, 'provenance': []},\n",
       "  {'answer': 'u –s', 'meta': {'score': -1}, 'provenance': []},\n",
       "  {'answer': 'america country', 'meta': {'score': -1}, 'provenance': []},\n",
       "  {'answer': 'yankee land', 'meta': {'score': -1}, 'provenance': []},\n",
       "  {'answer': 'states of america', 'meta': {'score': -1}, 'provenance': []},\n",
       "  {'answer': 'united states of america oldpage',\n",
       "   'meta': {'score': -1},\n",
       "   'provenance': []},\n",
       "  {'answer': 'amurika', 'meta': {'score': -1}, 'provenance': []},\n",
       "  {'answer': 'united states u s', 'meta': {'score': -1}, 'provenance': []},\n",
       "  {'answer': 'us', 'meta': {'score': -1}, 'provenance': []},\n",
       "  {'answer': 'us america', 'meta': {'score': -1}, 'provenance': []},\n",
       "  {'answer': 'america', 'meta': {'score': -1}, 'provenance': []},\n",
       "  {'answer': 'unites states', 'meta': {'score': -1}, 'provenance': []},\n",
       "  {'answer': 'amerka', 'meta': {'score': -1}, 'provenance': []},\n",
       "  {'answer': 'u s america', 'meta': {'score': -1}, 'provenance': []},\n",
       "  {'answer': 'america united states of',\n",
       "   'meta': {'score': -1},\n",
       "   'provenance': []},\n",
       "  {'answer': 'united states of america u s',\n",
       "   'meta': {'score': -1},\n",
       "   'provenance': []},\n",
       "  {'answer': 'usoa', 'meta': {'score': -1}, 'provenance': []},\n",
       "  {'answer': 'unietd states', 'meta': {'score': -1}, 'provenance': []},\n",
       "  {'answer': 'etats unis', 'meta': {'score': -1}, 'provenance': []},\n",
       "  {'answer': 'u–s', 'meta': {'score': -1}, 'provenance': []},\n",
       "  {'answer': 'american united states',\n",
       "   'meta': {'score': -1},\n",
       "   'provenance': []},\n",
       "  {'answer': 'amurica', 'meta': {'score': -1}, 'provenance': []},\n",
       "  {'answer': 'los estados unidos de america',\n",
       "   'meta': {'score': -1},\n",
       "   'provenance': []},\n",
       "  {'answer': 'untied states of america',\n",
       "   'meta': {'score': -1},\n",
       "   'provenance': []},\n",
       "  {'answer': 'united states of american',\n",
       "   'meta': {'score': -1},\n",
       "   'provenance': []},\n",
       "  {'answer': 'untied states', 'meta': {'score': -1}, 'provenance': []},\n",
       "  {'answer': 'ee uu', 'meta': {'score': -1}, 'provenance': []},\n",
       "  {'answer': 'united stated', 'meta': {'score': -1}, 'provenance': []},\n",
       "  {'answer': 'unitd states', 'meta': {'score': -1}, 'provenance': []},\n",
       "  {'answer': 'america united states', 'meta': {'score': -1}, 'provenance': []},\n",
       "  {'answer': 'u s american', 'meta': {'score': -1}, 'provenance': []},\n",
       "  {'answer': 'us and', 'meta': {'score': -1}, 'provenance': []},\n",
       "  {'answer': 'los estados unidos', 'meta': {'score': -1}, 'provenance': []},\n",
       "  {'answer': 'u–s–', 'meta': {'score': -1}, 'provenance': []},\n",
       "  {'answer': 'amercia', 'meta': {'score': -1}, 'provenance': []},\n",
       "  {'answer': 'these united states of america',\n",
       "   'meta': {'score': -1},\n",
       "   'provenance': []},\n",
       "  {'answer': 'united state of america',\n",
       "   'meta': {'score': -1},\n",
       "   'provenance': []},\n",
       "  {'answer': 'eeuu', 'meta': {'score': -1}, 'provenance': []},\n",
       "  {'answer': 'unites states of america',\n",
       "   'meta': {'score': -1},\n",
       "   'provenance': []},\n",
       "  {'answer': 'united states of america',\n",
       "   'meta': {'score': -1},\n",
       "   'provenance': []},\n",
       "  {'answer': 'united states america', 'meta': {'score': -1}, 'provenance': []},\n",
       "  {'answer': 'états unis', 'meta': {'score': -1}, 'provenance': []},\n",
       "  {'answer': 'united states of america usa',\n",
       "   'meta': {'score': -1},\n",
       "   'provenance': []},\n",
       "  {'answer': 'usa', 'meta': {'score': -1}, 'provenance': []},\n",
       "  {'answer': 'united states of america introduction',\n",
       "   'meta': {'score': -1},\n",
       "   'provenance': []},\n",
       "  {'answer': 'v s amerika', 'meta': {'score': -1}, 'provenance': []},\n",
       "  {'answer': 'los estados unidos de américa',\n",
       "   'meta': {'score': -1},\n",
       "   'provenance': []},\n",
       "  {'answer': 'united staets of america',\n",
       "   'meta': {'score': -1},\n",
       "   'provenance': []},\n",
       "  {'answer': 'u s of', 'meta': {'score': -1}, 'provenance': []},\n",
       "  {'answer': 'america us', 'meta': {'score': -1}, 'provenance': []},\n",
       "  {'answer': 'estados unidos', 'meta': {'score': -1}, 'provenance': []},\n",
       "  {'answer': 'iso 3166 1 us', 'meta': {'score': -1}, 'provenance': []},\n",
       "  {'answer': 'name of united states', 'meta': {'score': -1}, 'provenance': []},\n",
       "  {'answer': 'us of', 'meta': {'score': -1}, 'provenance': []},\n",
       "  {'answer': 'estaos unios', 'meta': {'score': -1}, 'provenance': []},\n",
       "  {'answer': 'united states', 'meta': {'score': -1}, 'provenance': []},\n",
       "  {'answer': 'united states introduction',\n",
       "   'meta': {'score': -1},\n",
       "   'provenance': []},\n",
       "  {'answer': 'united–states', 'meta': {'score': -1}, 'provenance': []},\n",
       "  {'answer': 'merica', 'meta': {'score': -1}, 'provenance': []},\n",
       "  {'answer': 'america usa', 'meta': {'score': -1}, 'provenance': []},\n",
       "  {'answer': 'unitesd states', 'meta': {'score': -1}, 'provenance': []},\n",
       "  {'answer': 'nagkaisang mga estado', 'meta': {'score': -1}, 'provenance': []},\n",
       "  {'answer': 'unitedstates', 'meta': {'score': -1}, 'provenance': []},\n",
       "  {'answer': 'verenigde state', 'meta': {'score': -1}, 'provenance': []},\n",
       "  {'answer': 'estaos uníos', 'meta': {'score': -1}, 'provenance': []},\n",
       "  {'answer': 'americaland', 'meta': {'score': -1}, 'provenance': []},\n",
       "  {'answer': 'america magazine', 'meta': {'score': -1}, 'provenance': []},\n",
       "  {'answer': 'america class', 'meta': {'score': -1}, 'provenance': []},\n",
       "  {'answer': 'vereinigte staaten', 'meta': {'score': -1}, 'provenance': []},\n",
       "  {'answer': 'unite states of america',\n",
       "   'meta': {'score': -1},\n",
       "   'provenance': []},\n",
       "  {'answer': 'estados unidos de america',\n",
       "   'meta': {'score': -1},\n",
       "   'provenance': []},\n",
       "  {'answer': 'v s america', 'meta': {'score': -1}, 'provenance': []},\n",
       "  {'answer': 'états unis d amérique', 'meta': {'score': -1}, 'provenance': []},\n",
       "  {'answer': 'estados unidos de américa',\n",
       "   'meta': {'score': -1},\n",
       "   'provenance': []},\n",
       "  {'answer': 'united states us', 'meta': {'score': -1}, 'provenance': []},\n",
       "  {'answer': 'vs amerika', 'meta': {'score': -1}, 'provenance': []},\n",
       "  {'answer': 'unite states', 'meta': {'score': -1}, 'provenance': []},\n",
       "  {'answer': 'nited states', 'meta': {'score': -1}, 'provenance': []},\n",
       "  {'answer': 'u s of america', 'meta': {'score': -1}, 'provenance': []},\n",
       "  {'answer': 'united sates', 'meta': {'score': -1}, 'provenance': []},\n",
       "  {'answer': 'vs america', 'meta': {'score': -1}, 'provenance': []},\n",
       "  {'answer': 'us of america', 'meta': {'score': -1}, 'provenance': []},\n",
       "  {'answer': 'etymology of united states',\n",
       "   'meta': {'score': -1},\n",
       "   'provenance': []},\n",
       "  {'answer': 'united states of america redirect',\n",
       "   'meta': {'score': -1},\n",
       "   'provenance': []},\n",
       "  {'answer': 'amurka', 'meta': {'score': -1}, 'provenance': []},\n",
       "  {'answer': 'united states of amerca',\n",
       "   'meta': {'score': -1},\n",
       "   'provenance': []},\n",
       "  {'answer': 'verenigde state van amerika',\n",
       "   'meta': {'score': -1},\n",
       "   'provenance': []},\n",
       "  {'answer': 'americophile', 'meta': {'score': -1}, 'provenance': []},\n",
       "  {'answer': 'estatos unitos', 'meta': {'score': -1}, 'provenance': []},\n",
       "  {'answer': 'etats unis d amerique', 'meta': {'score': -1}, 'provenance': []},\n",
       "  {'answer': 'us country', 'meta': {'score': -1}, 'provenance': []}]}"
      ]
     },
     "execution_count": 89,
     "metadata": {},
     "output_type": "execute_result"
    }
   ],
   "source": [
    " data['triviaqa_support_only']['train'][4500]"
   ]
  },
  {
   "cell_type": "code",
   "execution_count": 49,
   "metadata": {},
   "outputs": [
    {
     "data": {
      "text/plain": [
       "dict_keys(['wow', 'eli5', 'fever', 'aidayago2', 'wned', 'cweb', 'trex', 'structured_zeroshot', 'nq', 'hotpotqa', 'triviaqa_support_only'])"
      ]
     },
     "execution_count": 49,
     "metadata": {},
     "output_type": "execute_result"
    }
   ],
   "source": [
    "data.keys()"
   ]
  },
  {
   "cell_type": "code",
   "execution_count": 55,
   "metadata": {},
   "outputs": [],
   "source": [
    "#[ex for ex in data['nq']['train'] if ex['id'] == '5328212470870865242']"
   ]
  },
  {
   "cell_type": "code",
   "execution_count": null,
   "metadata": {},
   "outputs": [],
   "source": []
  }
 ],
 "metadata": {
  "kernelspec": {
   "display_name": "kilt",
   "language": "python",
   "name": "kilt"
  },
  "language_info": {
   "codemirror_mode": {
    "name": "ipython",
    "version": 3
   },
   "file_extension": ".py",
   "mimetype": "text/x-python",
   "name": "python",
   "nbconvert_exporter": "python",
   "pygments_lexer": "ipython3",
   "version": "3.7.9"
  }
 },
 "nbformat": 4,
 "nbformat_minor": 4
}
